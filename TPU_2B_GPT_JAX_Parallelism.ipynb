{
 "cells": [
  {
   "cell_type": "markdown",
   "metadata": {
    "_cell_guid": "fd0f84fd-4845-4173-9a01-7b31368d246b",
    "_uuid": "b8e8d4e2-681f-4a16-81b8-26501a2f1392",
    "collapsed": false,
    "jupyter": {
     "outputs_hidden": false
    },
    "trusted": true
   },
   "source": [
    "Run on kaggle TPUv3-8"
   ]
  },
  {
   "cell_type": "markdown",
   "metadata": {
    "_cell_guid": "0491115e-6b5b-4299-a181-14ded446f67e",
    "_uuid": "83d2111c-2f1b-42ac-8ab9-6d34622a1807",
    "collapsed": false,
    "jupyter": {
     "outputs_hidden": false
    },
    "trusted": true
   },
   "source": [
    "# Scaling Up GPT Across Multiple Devices: Training with JAX on TPU\n",
    "\n",
    "This project demonstrates how to build and train a GPT model using JAX and its supporting libraries, while scaling the training process across multiple compute devices. We leverage Google’s TPUv3-8, available through Kaggle, as the primary computation backend.\n",
    "\n",
    "A TPUv3-8 consists of 8 TPU cores, each equipped with high-bandwidth memory and designed specifically for large-scale machine learning workloads. In terms of raw compute power and memory bandwidth, a single TPUv3-8 pod is roughly equivalent to eight NVIDIA V100 16GB GPUs. TPUs are highly optimized for matrix operations and large-batch parallelism, making them ideal for training transformer-based models like GPT efficiently at scale."
   ]
  },
  {
   "cell_type": "markdown",
   "metadata": {
    "_cell_guid": "8e8e9dd7-bfc6-4f12-b238-69ae580387b3",
    "_uuid": "90572051-6707-4e21-bea3-82c3582ac1b4",
    "collapsed": false,
    "jupyter": {
     "outputs_hidden": false
    },
    "trusted": true
   },
   "source": [
    "# Environment Setup and Imports\n",
    "\n",
    "This section sets up the environment and imports all required libraries for high-performance machine learning using JAX, Flax, and Optax. These libraries together form a powerful, modular, and scalable ecosystem for research and production.\n",
    "\n",
    "We will use:\n",
    "- **JAX** for accelerated numerical computing. JAX, developed by Google, extends NumPy with automatic differentiation (autograd) and just-in-time (JIT) compilation, enabling execution on GPU and TPU.\n",
    "- **Flax** for neural network modeling. Flax is a high-level neural network library built on top of JAX, offering a flexible functional core and powerful module abstraction for defining deep learning models.\n",
    "- **Optax** for optimization and loss functions. Optax provides a composable set of gradient transformation utilities and stateful optimizers, designed to integrate seamlessly with JAX and Flax.\n",
    "\n",
    "**Key Features:**\n",
    "- JAX enables fast, scalable computation on CPU, GPU, and TPU.\n",
    "- Flax provides modular, extensible neural network components.\n",
    "- Optax offers flexible, composable optimization tools for training neural networks."
   ]
  },
  {
   "cell_type": "code",
   "execution_count": 1,
   "metadata": {
    "_cell_guid": "0885933d-5292-43eb-bcf3-76cd66b7750e",
    "_uuid": "fbba5a6f-1480-4661-b3a9-c9f50ef2ccec",
    "collapsed": false,
    "execution": {
     "iopub.execute_input": "2025-05-25T13:27:21.845606Z",
     "iopub.status.busy": "2025-05-25T13:27:21.845398Z",
     "iopub.status.idle": "2025-05-25T13:27:26.029279Z",
     "shell.execute_reply": "2025-05-25T13:27:26.028415Z",
     "shell.execute_reply.started": "2025-05-25T13:27:21.845584Z"
    },
    "jupyter": {
     "outputs_hidden": false
    },
    "trusted": true
   },
   "outputs": [],
   "source": [
    "import jax.numpy     as jnp\n",
    "import jax.random    as random\n",
    "import jax.tree_util as jtree\n",
    "from jax import grad, jit, vmap\n",
    "from jax.sharding import Mesh, NamedSharding\n",
    "from jax.sharding import PartitionSpec as P \n",
    "import jax"
   ]
  },
  {
   "cell_type": "code",
   "execution_count": 2,
   "metadata": {
    "_cell_guid": "09cc7713-2512-49e4-8084-fd5626fca644",
    "_uuid": "746604eb-2e60-45e8-83ba-2884e8286129",
    "collapsed": false,
    "execution": {
     "iopub.execute_input": "2025-05-25T13:27:26.030880Z",
     "iopub.status.busy": "2025-05-25T13:27:26.030475Z",
     "iopub.status.idle": "2025-05-25T13:27:27.166295Z",
     "shell.execute_reply": "2025-05-25T13:27:27.165194Z",
     "shell.execute_reply.started": "2025-05-25T13:27:26.030856Z"
    },
    "jupyter": {
     "outputs_hidden": false
    },
    "trusted": true
   },
   "outputs": [],
   "source": [
    "import optax\n",
    "import flax\n",
    "from flax import nnx"
   ]
  },
  {
   "cell_type": "code",
   "execution_count": 3,
   "metadata": {
    "_cell_guid": "e5a79ce7-b399-45fd-a990-e97d4fa5668c",
    "_uuid": "65f4d69b-6cb8-40a7-9c61-8c8230e64138",
    "collapsed": false,
    "execution": {
     "iopub.execute_input": "2025-05-25T13:27:27.167424Z",
     "iopub.status.busy": "2025-05-25T13:27:27.167152Z",
     "iopub.status.idle": "2025-05-25T13:27:28.563067Z",
     "shell.execute_reply": "2025-05-25T13:27:28.561748Z",
     "shell.execute_reply.started": "2025-05-25T13:27:27.167401Z"
    },
    "jupyter": {
     "outputs_hidden": false
    },
    "trusted": true
   },
   "outputs": [],
   "source": [
    "import numpy as np\n",
    "from tqdm import tqdm\n",
    "import matplotlib.pyplot as plt\n",
    "\n",
    "from IPython.display import display, clear_output"
   ]
  },
  {
   "cell_type": "markdown",
   "metadata": {
    "_cell_guid": "558d776a-0253-4e63-9cf4-12d5d436379d",
    "_uuid": "198ef8fa-0601-4f5b-b710-eb981d00a8cc",
    "collapsed": false,
    "jupyter": {
     "outputs_hidden": false
    },
    "trusted": true
   },
   "source": [
    "# Hyperparameters and Device Setup\n",
    "\n",
    "In this section, we define key model and training hyperparameters such as context size, embedding dimensions, and attention head configurations. We also configure the TPU device mesh to enable parallel training across TPU cores."
   ]
  },
  {
   "cell_type": "code",
   "execution_count": 4,
   "metadata": {
    "_cell_guid": "29075f2e-a281-4252-91ba-49a269f8a9e5",
    "_uuid": "762df497-a0ed-40fd-b94b-37f0fe2558d2",
    "collapsed": false,
    "execution": {
     "iopub.execute_input": "2025-05-25T13:27:28.564645Z",
     "iopub.status.busy": "2025-05-25T13:27:28.564295Z",
     "iopub.status.idle": "2025-05-25T13:27:28.569638Z",
     "shell.execute_reply": "2025-05-25T13:27:28.568567Z",
     "shell.execute_reply.started": "2025-05-25T13:27:28.564621Z"
    },
    "jupyter": {
     "outputs_hidden": false
    },
    "trusted": true
   },
   "outputs": [],
   "source": [
    "CONTEXT_SIZE = 1024 # 上下文長度 / Context window size\n",
    "EMBED_DIM = 2048 # 嵌入維度 / Embedding dimension\n",
    "QKV_DIM = 128 # QKV 向量維度 / QKV feature dimension\n",
    "HEAD_SIZE = 16 # 注意力頭數 / Number of attention heads\n",
    "BLOCK_SIZE = 48 # 解碼器模塊數 / Number of decoder blocks\n",
    "\n",
    "MICRO_BATCH_SIZE = 16 # Batch size per iter \n",
    "GLOBAL_BATCH_SIZE = 64 # Batch size per step \n",
    "\n",
    "LEARING_RATE = 1e-7\n",
    "MOMENTUM = 0.9 # Momentum factor for optimizer\n",
    "\n",
    "train_steps = 10000\n",
    "eval_every = 100\n",
    "\n",
    "# Assertion to ensure attention dimensions match\n",
    "assert QKV_DIM*HEAD_SIZE == EMBED_DIM"
   ]
  },
  {
   "cell_type": "code",
   "execution_count": 5,
   "metadata": {
    "_cell_guid": "0d86fc96-52bb-40b4-9de4-d30d9e0f8bd5",
    "_uuid": "761bcae7-f7d8-4780-8e41-60deb46f36c5",
    "collapsed": false,
    "execution": {
     "iopub.execute_input": "2025-05-25T13:27:28.570415Z",
     "iopub.status.busy": "2025-05-25T13:27:28.570217Z",
     "iopub.status.idle": "2025-05-25T13:27:34.613534Z",
     "shell.execute_reply": "2025-05-25T13:27:34.612138Z",
     "shell.execute_reply.started": "2025-05-25T13:27:28.570395Z"
    },
    "jupyter": {
     "outputs_hidden": false
    },
    "trusted": true
   },
   "outputs": [
    {
     "name": "stderr",
     "output_type": "stream",
     "text": [
      "WARNING: Logging before InitGoogle() is written to STDERR\n",
      "E0000 00:00:1748179650.612986      10 common_lib.cc:612] Could not set metric server port: INVALID_ARGUMENT: Could not find SliceBuilder port 8471 in any of the 0 ports provided in `tpu_process_addresses`=\"local\"\n",
      "=== Source Location Trace: ===\n",
      "learning/45eac/tfrc/runtime/common_lib.cc:230\n"
     ]
    },
    {
     "data": {
      "text/plain": [
       "[TpuDevice(id=0, process_index=0, coords=(0,0,0), core_on_chip=0),\n",
       " TpuDevice(id=1, process_index=0, coords=(0,0,0), core_on_chip=1),\n",
       " TpuDevice(id=2, process_index=0, coords=(1,0,0), core_on_chip=0),\n",
       " TpuDevice(id=3, process_index=0, coords=(1,0,0), core_on_chip=1),\n",
       " TpuDevice(id=4, process_index=0, coords=(0,1,0), core_on_chip=0),\n",
       " TpuDevice(id=5, process_index=0, coords=(0,1,0), core_on_chip=1),\n",
       " TpuDevice(id=6, process_index=0, coords=(1,1,0), core_on_chip=0),\n",
       " TpuDevice(id=7, process_index=0, coords=(1,1,0), core_on_chip=1)]"
      ]
     },
     "execution_count": 5,
     "metadata": {},
     "output_type": "execute_result"
    }
   ],
   "source": [
    "# List all local JAX devices (TPU cores)\n",
    "jax.local_devices()"
   ]
  },
  {
   "cell_type": "code",
   "execution_count": 6,
   "metadata": {
    "_cell_guid": "dcfe30df-1bd4-4aa2-a15e-4a1dab38cc54",
    "_uuid": "51ddfca2-dc88-4df9-b370-972d7b371939",
    "collapsed": false,
    "execution": {
     "iopub.execute_input": "2025-05-25T13:27:34.614978Z",
     "iopub.status.busy": "2025-05-25T13:27:34.614653Z",
     "iopub.status.idle": "2025-05-25T13:27:34.813124Z",
     "shell.execute_reply": "2025-05-25T13:27:34.811962Z",
     "shell.execute_reply.started": "2025-05-25T13:27:34.614948Z"
    },
    "jupyter": {
     "outputs_hidden": false
    },
    "trusted": true
   },
   "outputs": [],
   "source": [
    "# TPU device mesh and Sharding strategy for tensor/model parallelism\n",
    "\n",
    "# Number of available TPU cores\n",
    "num_device = len(jax.local_devices()) \n",
    "\n",
    "# Create a mesh with axis names for logical partitioning\n",
    "mesh = Mesh(devices=np.array(jax.devices()).reshape(1, num_device),axis_names=('data', 'model')) \n",
    "\n",
    "# Setup sharding strategy for dataset across the mesh\n",
    "data_sharding = NamedSharding(mesh, P())\n",
    "\n",
    "# pseudo random number generator's key\n",
    "key = random.PRNGKey(777) # random seed"
   ]
  },
  {
   "cell_type": "markdown",
   "metadata": {
    "_cell_guid": "f20b8cfc-fb7d-4091-b9ee-477066f32f4c",
    "_uuid": "62ee8c3d-969f-48fc-9a49-86e44fe1c756",
    "collapsed": false,
    "jupyter": {
     "outputs_hidden": false
    },
    "trusted": true
   },
   "source": [
    "# Dataset: Tiny Shakespeare\n",
    "40,000 lines of Shakespeare from a variety of Shakespeare's plays. Featured in Andrej Karpathy's blog post 'The Unreasonable Effectiveness of Recurrent Neural Networks': http://karpathy.github.io/2015/05/21/rnn-effectiveness/\n",
    "\n",
    "The Tiny Shakespeare corpus is a dataset that contains 40,000 lines of Shakespeare from a variety of his plays. The Tiny Shakespeare corpus is a popular choice for training language models due to its manageable size and the complexity of Shakespeare's language. It provides a good balance between computational efficiency and the ability to generate interesting text."
   ]
  },
  {
   "cell_type": "code",
   "execution_count": 7,
   "metadata": {
    "_cell_guid": "388c0f59-fe30-4ccb-9c1d-56a23dcc4862",
    "_uuid": "63fc5d4c-d898-4ab8-8a19-724d1d868696",
    "collapsed": false,
    "execution": {
     "iopub.execute_input": "2025-05-25T13:27:34.814507Z",
     "iopub.status.busy": "2025-05-25T13:27:34.814213Z",
     "iopub.status.idle": "2025-05-25T13:27:35.075457Z",
     "shell.execute_reply": "2025-05-25T13:27:35.074463Z",
     "shell.execute_reply.started": "2025-05-25T13:27:34.814479Z"
    },
    "jupyter": {
     "outputs_hidden": false
    },
    "trusted": true
   },
   "outputs": [
    {
     "name": "stdout",
     "output_type": "stream",
     "text": [
      "Length of dataset: 1115394\n"
     ]
    }
   ],
   "source": [
    "import requests\n",
    "data_url = 'https://raw.githubusercontent.com/karpathy/char-rnn/master/data/tinyshakespeare/input.txt'\n",
    "input_file_path = \"./input.txt\"\n",
    "\n",
    "# Download Tiny Shakespeare text data\n",
    "with open(input_file_path, 'w', encoding='utf-8') as f:\n",
    "    f.write(requests.get(data_url).text) \n",
    "\n",
    "with open(input_file_path, 'r', encoding='utf-8') as f:\n",
    "    data = f.read()\n",
    "\n",
    "print(f\"Length of dataset: {len(data)}\")"
   ]
  },
  {
   "cell_type": "code",
   "execution_count": 8,
   "metadata": {
    "_cell_guid": "1d1d9eb5-03a3-45df-97e7-4eff17e382ee",
    "_uuid": "757d66a3-b529-4a12-b2d1-1d5f0524ed3f",
    "collapsed": false,
    "execution": {
     "iopub.execute_input": "2025-05-25T13:27:35.076486Z",
     "iopub.status.busy": "2025-05-25T13:27:35.076262Z",
     "iopub.status.idle": "2025-05-25T13:27:35.081091Z",
     "shell.execute_reply": "2025-05-25T13:27:35.080372Z",
     "shell.execute_reply.started": "2025-05-25T13:27:35.076464Z"
    },
    "jupyter": {
     "outputs_hidden": false
    },
    "trusted": true
   },
   "outputs": [
    {
     "data": {
      "text/plain": [
       "'First Citizen:\\nBefore we proceed any further, hear me speak.\\n\\nAll:\\nSpeak, speak.\\n\\nFirst Citizen:\\nYou'"
      ]
     },
     "execution_count": 8,
     "metadata": {},
     "output_type": "execute_result"
    }
   ],
   "source": [
    "# Preview Sample Data\n",
    "data[:100]"
   ]
  },
  {
   "cell_type": "code",
   "execution_count": 9,
   "metadata": {
    "_cell_guid": "e39e079d-81ee-4e89-bda1-d8be09b6afaa",
    "_uuid": "9c993e21-9dee-4bb7-8b07-3ae348133823",
    "collapsed": false,
    "execution": {
     "iopub.execute_input": "2025-05-25T13:27:35.082432Z",
     "iopub.status.busy": "2025-05-25T13:27:35.082177Z",
     "iopub.status.idle": "2025-05-25T13:27:35.111259Z",
     "shell.execute_reply": "2025-05-25T13:27:35.110350Z",
     "shell.execute_reply.started": "2025-05-25T13:27:35.082408Z"
    },
    "jupyter": {
     "outputs_hidden": false
    },
    "trusted": true
   },
   "outputs": [
    {
     "name": "stdout",
     "output_type": "stream",
     "text": [
      "chars=['o', 'i', 'Q', 'v', 'U', 'V', 'k', 'A', 'g', '-', 'p', 'd', 'q', 'I', 'f', '?', 'c', 'E', 'B', 'W', 'z', 'X', 'N', 'D', 'l', 'j', '\\n', '.', 'y', 'J', ':', 'a', 'x', 'M', '$', '3', 'T', 'H', 'Y', 'Z', 'C', 'r', 'w', 'm', 'F', 'h', 'P', 'b', 'G', 'L', 'u', ' ', ',', 'S', ';', \"'\", 'K', 'n', 't', '!', '&', 's', 'R', 'O', 'e']\n",
      "vocab_size=65\n",
      "ctoi={'o': 0, 'i': 1, 'Q': 2, 'v': 3, 'U': 4, 'V': 5, 'k': 6, 'A': 7, 'g': 8, '-': 9, 'p': 10, 'd': 11, 'q': 12, 'I': 13, 'f': 14, '?': 15, 'c': 16, 'E': 17, 'B': 18, 'W': 19, 'z': 20, 'X': 21, 'N': 22, 'D': 23, 'l': 24, 'j': 25, '\\n': 26, '.': 27, 'y': 28, 'J': 29, ':': 30, 'a': 31, 'x': 32, 'M': 33, '$': 34, '3': 35, 'T': 36, 'H': 37, 'Y': 38, 'Z': 39, 'C': 40, 'r': 41, 'w': 42, 'm': 43, 'F': 44, 'h': 45, 'P': 46, 'b': 47, 'G': 48, 'L': 49, 'u': 50, ' ': 51, ',': 52, 'S': 53, ';': 54, \"'\": 55, 'K': 56, 'n': 57, 't': 58, '!': 59, '&': 60, 's': 61, 'R': 62, 'O': 63, 'e': 64}\n",
      "itoc={0: 'o', 1: 'i', 2: 'Q', 3: 'v', 4: 'U', 5: 'V', 6: 'k', 7: 'A', 8: 'g', 9: '-', 10: 'p', 11: 'd', 12: 'q', 13: 'I', 14: 'f', 15: '?', 16: 'c', 17: 'E', 18: 'B', 19: 'W', 20: 'z', 21: 'X', 22: 'N', 23: 'D', 24: 'l', 25: 'j', 26: '\\n', 27: '.', 28: 'y', 29: 'J', 30: ':', 31: 'a', 32: 'x', 33: 'M', 34: '$', 35: '3', 36: 'T', 37: 'H', 38: 'Y', 39: 'Z', 40: 'C', 41: 'r', 42: 'w', 43: 'm', 44: 'F', 45: 'h', 46: 'P', 47: 'b', 48: 'G', 49: 'L', 50: 'u', 51: ' ', 52: ',', 53: 'S', 54: ';', 55: \"'\", 56: 'K', 57: 'n', 58: 't', 59: '!', 60: '&', 61: 's', 62: 'R', 63: 'O', 64: 'e'}\n"
     ]
    }
   ],
   "source": [
    "# Vocabulary Encoding / Decoding \n",
    "\n",
    "chars = list(set(data))\n",
    "data_size = len(data)\n",
    "vocab_size = len(chars)\n",
    "\n",
    "# Character-to-index and index-to-character mappings\n",
    "ctoi = { c:i for i, c in enumerate(chars) }\n",
    "itoc = { i:c for c, i in ctoi.items() }\n",
    "encode = lambda s: [ctoi[c] for c in s]\n",
    "decode = lambda l: \"\".join([itoc[i] for i in l])\n",
    "\n",
    "print(f\"{chars=}\")\n",
    "print(f\"{vocab_size=}\")\n",
    "print(f\"{ctoi=}\")\n",
    "print(f\"{itoc=}\")"
   ]
  },
  {
   "cell_type": "code",
   "execution_count": 10,
   "metadata": {
    "_cell_guid": "ed921e9c-e943-46c7-a234-8f77779924cd",
    "_uuid": "6d2032b3-e055-4780-b782-731dcf26bbcb",
    "collapsed": false,
    "execution": {
     "iopub.execute_input": "2025-05-25T13:27:35.112374Z",
     "iopub.status.busy": "2025-05-25T13:27:35.112146Z",
     "iopub.status.idle": "2025-05-25T13:27:35.126362Z",
     "shell.execute_reply": "2025-05-25T13:27:35.125551Z",
     "shell.execute_reply.started": "2025-05-25T13:27:35.112351Z"
    },
    "jupyter": {
     "outputs_hidden": false
    },
    "trusted": true
   },
   "outputs": [
    {
     "name": "stdout",
     "output_type": "stream",
     "text": [
      "[44, 1, 41, 61, 58, 51, 40, 1, 58, 1, 20, 64, 57, 30, 26, 18, 64, 14, 0, 41, 64, 51, 42, 64, 51, 10, 41, 0, 16, 64, 64, 11, 51, 31, 57, 28, 51, 14, 50, 41, 58, 45, 64, 41, 52, 51, 45, 64, 31, 41, 51, 43, 64, 51, 61, 10, 64, 31, 6, 27, 26, 26, 7, 24, 24, 30, 26, 53, 10, 64, 31, 6, 52, 51, 61, 10, 64, 31, 6, 27, 26, 26, 44, 1, 41, 61, 58, 51, 40, 1, 58, 1, 20, 64, 57, 30, 26, 38, 0, 50]\n",
      "First Citizen:\n",
      "Before we proceed any further, hear me speak.\n",
      "\n",
      "All:\n",
      "Speak, speak.\n",
      "\n",
      "First Citizen:\n",
      "You\n"
     ]
    }
   ],
   "source": [
    "# Encoding Validation\n",
    "print(encode(data[:100]))\n",
    "print(decode(encode(data[:100])))"
   ]
  },
  {
   "cell_type": "code",
   "execution_count": 11,
   "metadata": {
    "_cell_guid": "c0d8600c-b124-4127-8626-19432512e573",
    "_uuid": "0aeddbbe-4211-41c5-bcab-c6759070d730",
    "collapsed": false,
    "execution": {
     "iopub.execute_input": "2025-05-25T13:27:35.127285Z",
     "iopub.status.busy": "2025-05-25T13:27:35.127032Z",
     "iopub.status.idle": "2025-05-25T13:27:35.139229Z",
     "shell.execute_reply": "2025-05-25T13:27:35.138397Z",
     "shell.execute_reply.started": "2025-05-25T13:27:35.127257Z"
    },
    "jupyter": {
     "outputs_hidden": false
    },
    "trusted": true
   },
   "outputs": [],
   "source": [
    "# Split dataset into training and testing sets (numerically encoded)\n",
    "def data_numeric_split(text_data, train_percent):\n",
    "    numeric_data = jnp.array(encode(text_data), dtype=jnp.int32)\n",
    "    split_num = int(train_percent*data_size)\n",
    "    train_data = numeric_data[:split_num]\n",
    "    test_data = numeric_data[split_num:]\n",
    "\n",
    "    return train_data, test_data\n",
    "\n",
    "# Generate batched training data for input (x) and target (y)\n",
    "def data_load(train_data, batch_size, context_size, key=random.PRNGKey(0)):\n",
    "    \n",
    "    # Randomly sample batch starting indices\n",
    "    indices = random.randint(key, (batch_size,), 0, len(train_data) - context_size)\n",
    "\n",
    "    # Create input and target sequences by slicing\n",
    "    x = jnp.stack([train_data[i : i+context_size] for i in indices])\n",
    "    y = jnp.stack([train_data[i+1 : i+context_size+1] for i in indices])\n",
    "\n",
    "    return x,y"
   ]
  },
  {
   "cell_type": "code",
   "execution_count": 12,
   "metadata": {
    "_cell_guid": "0cb1a59b-7328-45cd-b8ff-2014db0f3914",
    "_uuid": "0d4f1a91-ba96-442b-bb63-7f5752bea22d",
    "collapsed": false,
    "execution": {
     "iopub.execute_input": "2025-05-25T13:27:35.140195Z",
     "iopub.status.busy": "2025-05-25T13:27:35.140012Z",
     "iopub.status.idle": "2025-05-25T13:27:37.091349Z",
     "shell.execute_reply": "2025-05-25T13:27:37.090472Z",
     "shell.execute_reply.started": "2025-05-25T13:27:35.140176Z"
    },
    "jupyter": {
     "outputs_hidden": false
    },
    "trusted": true
   },
   "outputs": [],
   "source": [
    "# Split into 90% training and 10% testing\n",
    "train, test = data_numeric_split(data, 0.9)"
   ]
  },
  {
   "cell_type": "code",
   "execution_count": 13,
   "metadata": {
    "_cell_guid": "6a46f150-d1f8-4fa8-b912-37c931fbcfdb",
    "_uuid": "d6be3ef1-a9b1-4002-9d3f-670bd3f50cd7",
    "collapsed": false,
    "execution": {
     "iopub.execute_input": "2025-05-25T13:27:37.092532Z",
     "iopub.status.busy": "2025-05-25T13:27:37.092314Z",
     "iopub.status.idle": "2025-05-25T13:27:38.057215Z",
     "shell.execute_reply": "2025-05-25T13:27:38.055811Z",
     "shell.execute_reply.started": "2025-05-25T13:27:37.092510Z"
    },
    "jupyter": {
     "outputs_hidden": false
    },
    "trusted": true
   },
   "outputs": [
    {
     "name": "stdout",
     "output_type": "stream",
     "text": [
      "{TpuDevice(id=0, process_index=0, coords=(0,0,0), core_on_chip=0)}\n",
      "(Array([[50, 58, 51, ..., 16, 64, 51],\n",
      "       [43, 64, 30, ..., 52, 51, 31],\n",
      "       [45,  0, 57, ..., 52, 51, 16],\n",
      "       ...,\n",
      "       [28, 51, 45, ..., 51, 11,  0],\n",
      "       [51, 58, 45, ..., 28,  9, 47],\n",
      "       [45,  1, 61, ...,  0, 61, 58]], dtype=int32), Array([[58, 51,  0, ..., 64, 51, 31],\n",
      "       [64, 30, 51, ..., 51, 31, 57],\n",
      "       [ 0, 57,  0, ..., 51, 16,  0],\n",
      "       ...,\n",
      "       [51, 45, 64, ..., 11,  0, 51],\n",
      "       [58, 45,  1, ...,  9, 47, 50],\n",
      "       [ 1, 61, 51, ..., 61, 58, 51]], dtype=int32))\n"
     ]
    }
   ],
   "source": [
    "# Load a sample for verification\n",
    "key, subkey = random.split(key, 2)\n",
    "sample = data_load(train, MICRO_BATCH_SIZE, CONTEXT_SIZE, subkey)\n",
    "\n",
    "print(sample[0].devices())\n",
    "print(sample)"
   ]
  },
  {
   "cell_type": "markdown",
   "metadata": {
    "_cell_guid": "69429eb0-3ad6-4859-bbd4-bb664ee3d8c5",
    "_uuid": "14688e5d-5d42-4280-b8e2-5eb474361b40",
    "collapsed": false,
    "jupyter": {
     "outputs_hidden": false
    },
    "trusted": true
   },
   "source": [
    "# Model Definition\n",
    "\n",
    "This section defines the GPT model using Flax/NNX, including attention, feedforward, and decoder blocks optimized for TPU execution.\n",
    "\n",
    "**Key Features:**\n",
    "\n",
    "- **Tensor & Sequence Parallelism:** Model weights and attention computations are partitioned across TPU cores using `jax.sharding` and `PartitionSpec`, supporting both **tensor parallelism** (parameter-level) and **sequence parallelism** (sequence axis slicing).\n",
    "- **Mixed Precision (bfloat16):** All layers operate in `bfloat16` precision to reduce memory usage and accelerate training throughput\n",
    "- **Activation Recomputation:** Backward pass uses `@nnx.remat` to recompute intermediate activations instead of storing them, saving memory during training."
   ]
  },
  {
   "cell_type": "code",
   "execution_count": 14,
   "metadata": {
    "_cell_guid": "4d3b87e5-0be5-4707-b06d-3403628d3b28",
    "_uuid": "d7cf0ae1-51d8-4883-ad61-d1c1db7d1f30",
    "collapsed": false,
    "execution": {
     "iopub.execute_input": "2025-05-25T13:27:38.058162Z",
     "iopub.status.busy": "2025-05-25T13:27:38.057908Z",
     "iopub.status.idle": "2025-05-25T13:27:38.061759Z",
     "shell.execute_reply": "2025-05-25T13:27:38.060920Z",
     "shell.execute_reply.started": "2025-05-25T13:27:38.058138Z"
    },
    "jupyter": {
     "outputs_hidden": false
    },
    "trusted": true
   },
   "outputs": [],
   "source": [
    "config = {\n",
    "    \"vocab_size\": vocab_size,\n",
    "    \"context_size\": CONTEXT_SIZE,\n",
    "    \"embed_dim\": EMBED_DIM,\n",
    "    \"qkv_dim\": QKV_DIM,\n",
    "    \"head_size\": HEAD_SIZE,\n",
    "    \"block_size\": BLOCK_SIZE,\n",
    "    \"activation\": \"gelu\",\n",
    "    \"ffn_d\": EMBED_DIM*4,\n",
    "    \"dropout\": 0.2,\n",
    "}"
   ]
  },
  {
   "cell_type": "code",
   "execution_count": 15,
   "metadata": {
    "_cell_guid": "bc86827b-9b7d-4777-8327-b126d0319e0f",
    "_uuid": "ebe34828-a51f-42b9-84d6-b6f36f510ea3",
    "collapsed": false,
    "execution": {
     "iopub.execute_input": "2025-05-25T13:27:38.063087Z",
     "iopub.status.busy": "2025-05-25T13:27:38.062761Z",
     "iopub.status.idle": "2025-05-25T13:27:38.079364Z",
     "shell.execute_reply": "2025-05-25T13:27:38.078435Z",
     "shell.execute_reply.started": "2025-05-25T13:27:38.063059Z"
    },
    "jupyter": {
     "outputs_hidden": false
    },
    "trusted": true
   },
   "outputs": [],
   "source": [
    "class MaskedSelfAttention(nnx.Module):\n",
    "    def __init__(self, config: dict, rngs: nnx.Rngs):\n",
    "        init_fn = nnx.initializers.lecun_normal()\n",
    "        \n",
    "        assert config[\"embed_dim\"] == config[\"head_size\"] * config[\"qkv_dim\"]\n",
    "        self.qkv_feature = config[\"qkv_dim\"]\n",
    "        self.num_heads = config[\"head_size\"]\n",
    "        \n",
    "        self.qkv_proj = nnx.Linear(in_features=config[\"embed_dim\"], out_features=config[\"embed_dim\"]*3, \n",
    "                                   kernel_init=nnx.with_partitioning(init_fn, (None, 'model')),\n",
    "                                   dtype=jnp.bfloat16, param_dtype=jnp.bfloat16, rngs=rngs)\n",
    "        self.output_proj = nnx.Linear(in_features=config[\"embed_dim\"], out_features=config[\"embed_dim\"], \n",
    "                                      kernel_init=nnx.with_partitioning(init_fn, ('model', None)),\n",
    "                                      dtype=jnp.bfloat16, param_dtype=jnp.bfloat16, rngs=rngs)\n",
    "        self.dropout = nnx.Dropout(config[\"dropout\"], rngs=rngs)\n",
    "\n",
    "     \n",
    "    def __call__(self, x: jax.Array):\n",
    "        B, S, E = x.shape # (batch_size, seq_len, embed_dim)\n",
    "            \n",
    "        x = jax.lax.with_sharding_constraint(x, P())\n",
    "        \n",
    "        # (batch_size, seq_len, embed_dim) -> (batch_size, seq_len, 3 * qkv_dim * num_heads) , embed_dim = qkv_dim * num_heads\n",
    "        qkv = self.qkv_proj(x) \n",
    "        \n",
    "        # (batch_size, num_heads, seq_len, 3 * qkv_dim)\n",
    "        qkv = qkv.reshape(B, S , self.num_heads, self.qkv_feature * 3 ).transpose(0, 2, 1, 3)      \n",
    "        \n",
    "        q, k, v = jnp.array_split(qkv, 3, axis=-1)\n",
    "\n",
    "        # (QK^T / sqrt(d_k))\n",
    "        # (batch, num_heads, seq_len, qkv_dim) @ (batch, num_heads, qkv_dim, seq_len) -> (batch, num_heads, seq_len, seq_len)\n",
    "        scores = jnp.matmul(q, k.transpose(0, 1, 3, 2)) / jnp.sqrt(self.qkv_feature)\n",
    "\n",
    "        # Causal Mask\n",
    "        causal_mask = jnp.triu(jnp.ones((S, S), dtype=jnp.bool_), k=1)[None,None,:,:]\n",
    "        large_negative = jnp.finfo(scores.dtype).min\n",
    "        scores = jnp.where(causal_mask, large_negative, scores) \n",
    "        \n",
    "        # Attetion weights\n",
    "        attn_weights = nnx.softmax(scores, axis=-1)\n",
    "\n",
    "        # (batch, num_heads, seq_len, seq_len) @ (batch, num_heads, seq_len, qkv_dim) -> (batch, num_heads, seq_len, qkv_dim)\n",
    "        attn_output = jnp.matmul(attn_weights, v)\n",
    "\n",
    "        # (batch, num_heads, seq_len, qkv_dim) -> (batch, seq_len, num_heads, qkv_dim) -> (batch, seq_len, embed_dim)\n",
    "        attn_output = attn_output.transpose(0, 2, 1, 3).reshape(B, S, E)\n",
    "\n",
    "        attn_output = jax.lax.with_sharding_constraint(attn_output, P(None, None, 'model'))\n",
    "        \n",
    "        output = self.output_proj(attn_output)\n",
    "\n",
    "        x = jax.lax.with_sharding_constraint(x, P(None, 'model', None))\n",
    "        output = self.dropout(output)\n",
    "        return output"
   ]
  },
  {
   "cell_type": "code",
   "execution_count": 16,
   "metadata": {
    "_cell_guid": "1845b158-f9e0-4397-a126-9641282c164b",
    "_uuid": "b91bd040-2d3f-4e81-abe6-e17ebc2538c1",
    "collapsed": false,
    "execution": {
     "iopub.execute_input": "2025-05-25T13:27:38.080386Z",
     "iopub.status.busy": "2025-05-25T13:27:38.080184Z",
     "iopub.status.idle": "2025-05-25T13:27:38.095683Z",
     "shell.execute_reply": "2025-05-25T13:27:38.094818Z",
     "shell.execute_reply.started": "2025-05-25T13:27:38.080365Z"
    },
    "jupyter": {
     "outputs_hidden": false
    },
    "trusted": true
   },
   "outputs": [],
   "source": [
    "class GPTFeedForwardNetwork(nnx.Module):\n",
    "    def __init__(self, config: dict, rngs: nnx.Rngs):\n",
    "        init_fn = nnx.initializers.lecun_normal()\n",
    "\n",
    "        self.layer1 = nnx.Linear(in_features=config[\"embed_dim\"], out_features=config[\"ffn_d\"], \n",
    "                                 kernel_init=nnx.with_partitioning(init_fn, (None, 'model')),\n",
    "                                 dtype=jnp.bfloat16, param_dtype=jnp.bfloat16, rngs=rngs)\n",
    "        self.layer2 = nnx.Linear(in_features=config[\"ffn_d\"], out_features=config[\"embed_dim\"],\n",
    "                                 kernel_init=nnx.with_partitioning(init_fn, ('model', None)),\n",
    "                                 dtype=jnp.bfloat16, param_dtype=jnp.bfloat16, rngs=rngs)\n",
    "        \n",
    "        self.activation = {\n",
    "            'relu':nnx.relu,\n",
    "            'swish':nnx.swish,\n",
    "            'gelu':nnx.gelu\n",
    "        }[config[\"activation\"]]\n",
    "        \n",
    "        self.dropout = nnx.Dropout(config[\"dropout\"], rngs=rngs)\n",
    "\n",
    "    \n",
    "    def __call__(self, x: jax.Array):\n",
    "        x = jax.lax.with_sharding_constraint(x, P())\n",
    "        x = self.layer1(x)\n",
    "        x = self.activation(x) \n",
    "        x = self.layer2(x)\n",
    "        x = jax.lax.with_sharding_constraint(x, P(None, 'model', None))\n",
    "        x = self.dropout(x)\n",
    "        return x"
   ]
  },
  {
   "cell_type": "code",
   "execution_count": 17,
   "metadata": {
    "_cell_guid": "aa07552e-a466-4d76-87ea-d485d2358f73",
    "_uuid": "19988c1e-a7de-409e-9173-2513a632b9ed",
    "collapsed": false,
    "execution": {
     "iopub.execute_input": "2025-05-25T13:27:38.096685Z",
     "iopub.status.busy": "2025-05-25T13:27:38.096473Z",
     "iopub.status.idle": "2025-05-25T13:27:38.107029Z",
     "shell.execute_reply": "2025-05-25T13:27:38.106250Z",
     "shell.execute_reply.started": "2025-05-25T13:27:38.096663Z"
    },
    "jupyter": {
     "outputs_hidden": false
    },
    "trusted": true
   },
   "outputs": [],
   "source": [
    "class GPTDecoderBlock(nnx.Module):\n",
    "    def __init__(self, config: dict, rngs: nnx.Rngs):\n",
    "\n",
    "        self.atn = MaskedSelfAttention(config, rngs)\n",
    "        self.norm1 = nnx.LayerNorm(num_features=config[\"embed_dim\"],\n",
    "                                   dtype=jnp.bfloat16, param_dtype=jnp.bfloat16, rngs=rngs)\n",
    "        self.ffn = GPTFeedForwardNetwork(config, rngs)\n",
    "        self.norm2 = nnx.LayerNorm(num_features=config[\"embed_dim\"], \n",
    "                                   dtype=jnp.bfloat16, param_dtype=jnp.bfloat16, rngs=rngs)\n",
    "\n",
    "    # Enable activation recomputation to reduce memory usage \n",
    "    @nnx.remat  \n",
    "    def __call__(self, x: jax.Array):\n",
    "        x = x + self.atn(self.norm1(x))\n",
    "        x = x + self.ffn(self.norm2(x))\n",
    "        return x"
   ]
  },
  {
   "cell_type": "code",
   "execution_count": 18,
   "metadata": {
    "_cell_guid": "e43e9532-747f-4c66-9474-3433fee0e6c7",
    "_uuid": "c79badec-09f3-409f-9e20-5dc29f32b245",
    "collapsed": false,
    "execution": {
     "iopub.execute_input": "2025-05-25T13:27:38.108514Z",
     "iopub.status.busy": "2025-05-25T13:27:38.108271Z",
     "iopub.status.idle": "2025-05-25T13:27:38.122755Z",
     "shell.execute_reply": "2025-05-25T13:27:38.122118Z",
     "shell.execute_reply.started": "2025-05-25T13:27:38.108492Z"
    },
    "jupyter": {
     "outputs_hidden": false
    },
    "trusted": true
   },
   "outputs": [],
   "source": [
    "class GPT(nnx.Module):\n",
    "    def __init__(self, config: dict, rngs: nnx.Rngs):\n",
    "        init_fn = nnx.initializers.lecun_normal()\n",
    "        params_key = rngs.params() \n",
    "        split_keys = jax.random.split(params_key, config[\"block_size\"])\n",
    "\n",
    "        # token embedding and positional embedding shared embedding\n",
    "        self.embeding = nnx.Embed(num_embeddings=config[\"vocab_size\"]+config[\"context_size\"], features=config[\"embed_dim\"]\n",
    "                                  , dtype=jnp.bfloat16, param_dtype=jnp.bfloat16, rngs=rngs)\n",
    "        self.blocks = self.blocks_create(config, split_keys)\n",
    "        self.norm = nnx.LayerNorm(num_features=config[\"embed_dim\"],\n",
    "                                  dtype=jnp.bfloat16, param_dtype=jnp.bfloat16, rngs=rngs)\n",
    "        self.linear_proj = nnx.Linear(in_features=config[\"embed_dim\"], out_features=config[\"vocab_size\"], \n",
    "                                      kernel_init=nnx.with_partitioning(init_fn, (None, None)),\n",
    "                                      dtype=jnp.bfloat16, param_dtype=jnp.bfloat16, rngs=rngs)\n",
    "        \n",
    "        \n",
    "    def __call__(self, input_data: jax.Array):\n",
    "            \n",
    "        n_batch, n_contxt = input_data.shape # (Batch, Seq)\n",
    "\n",
    "        # shift postion for embeding\n",
    "        position = jnp.arange(config[\"vocab_size\"], config[\"vocab_size\"]+config[\"context_size\"], dtype=jnp.int32)\n",
    "        position = jnp.repeat(position[None, :], n_batch, axis=0)\n",
    "\n",
    "        # Create array for two embeddings\n",
    "        x = jnp.zeros((n_batch, config[\"context_size\"], 2), dtype=jnp.int32)\n",
    "        x = x.at[:, :, 0].set(input_data)  \n",
    "        x = x.at[:, :, 1].set(position)  \n",
    "        x = self.embeding(x)\n",
    "        \n",
    "        # Summing over embedding axis (token + position)\n",
    "        x = jnp.sum(x, axis=-2) # Reduce postion embeding vector and token embeding vector\n",
    "        \n",
    "        x = jax.lax.with_sharding_constraint(x, P(None, 'model', None))\n",
    "        \n",
    "        # Blocks\n",
    "        x = GPT.blocks_forward(self.blocks, x)\n",
    "\n",
    "        # Last norm\n",
    "        x = self.norm(x) \n",
    "\n",
    "        x = jax.lax.with_sharding_constraint(x, P())\n",
    "        # Last layer\n",
    "        logits = self.linear_proj(x)\n",
    "        \n",
    "        return logits \n",
    "\n",
    "    @nnx.vmap(in_axes=(None, None, 0), out_axes=0,)\n",
    "    def blocks_create(self, config, key: jax.Array):\n",
    "      return GPTDecoderBlock(config, nnx.Rngs(key))\n",
    "\n",
    "    @nnx.scan(in_axes=(0, nnx.Carry), out_axes=nnx.Carry,)\n",
    "    def blocks_forward(block, x):\n",
    "        x = block(x)\n",
    "        return x"
   ]
  },
  {
   "cell_type": "markdown",
   "metadata": {
    "_cell_guid": "b1ea8289-f538-456e-abaa-03b1060d5eee",
    "_uuid": "0f98d12d-25fd-40b7-a2f1-38b238ecb31d",
    "collapsed": false,
    "jupyter": {
     "outputs_hidden": false
    },
    "trusted": true
   },
   "source": [
    "# Loss Function and Training Step\n",
    "\n",
    "This section defines the loss function and training loop with gradient accumulation support.\n",
    "\n",
    "**Key Features:**\n",
    "- **Gradient Accumulation:** Accumulate gradients over multiple micro-batches before updating model parameters. This approach simulates a large batch size without requiring extensive device memory.\n",
    "- **Mixed Precision Support:** Logits are cast to `float32` for loss computation, ensuring numerical stability in bfloat16 training regime."
   ]
  },
  {
   "cell_type": "code",
   "execution_count": 19,
   "metadata": {
    "_cell_guid": "911c4f25-adda-4989-9771-c77513fbe7ea",
    "_uuid": "26805cf2-dc09-45c7-9509-c2a241b2e415",
    "collapsed": false,
    "execution": {
     "iopub.execute_input": "2025-05-25T13:27:38.123910Z",
     "iopub.status.busy": "2025-05-25T13:27:38.123672Z",
     "iopub.status.idle": "2025-05-25T13:27:38.137174Z",
     "shell.execute_reply": "2025-05-25T13:27:38.136378Z",
     "shell.execute_reply.started": "2025-05-25T13:27:38.123887Z"
    },
    "jupyter": {
     "outputs_hidden": false
    },
    "trusted": true
   },
   "outputs": [],
   "source": [
    "@nnx.jit\n",
    "def loss_fn(model, x, y):\n",
    "  \"\"\"Forward pass loss computation.\"\"\"\n",
    "  \n",
    "  logits = model(x).astype(jnp.float32)\n",
    "  loss = optax.softmax_cross_entropy_with_integer_labels(logits=logits, labels=y).mean()\n",
    "  return loss, logits"
   ]
  },
  {
   "cell_type": "code",
   "execution_count": 20,
   "metadata": {
    "_cell_guid": "7e3ea514-7a50-4070-95d7-85be8637e260",
    "_uuid": "c46e798f-3871-44b8-9c6c-ca4dde1984ff",
    "collapsed": false,
    "execution": {
     "iopub.execute_input": "2025-05-25T13:27:38.138363Z",
     "iopub.status.busy": "2025-05-25T13:27:38.138162Z",
     "iopub.status.idle": "2025-05-25T13:27:38.151168Z",
     "shell.execute_reply": "2025-05-25T13:27:38.150293Z",
     "shell.execute_reply.started": "2025-05-25T13:27:38.138344Z"
    },
    "jupyter": {
     "outputs_hidden": false
    },
    "trusted": true
   },
   "outputs": [],
   "source": [
    "grad_fnc = nnx.jit(nnx.value_and_grad(loss_fn, has_aux=True))\n",
    "\n",
    "def train_step(model, optimizer: nnx.Optimizer, metrics: nnx.MultiMetric, x, y, x_stack, y_stack):\n",
    "    \"\"\"Train step with gradient accumulation over x_stack / y_stack.\"\"\"\n",
    "\n",
    "    # First forward-backward pass\n",
    "    (loss, logits), grads = grad_fnc(model, x, y)\n",
    "    accum_grads = grads\n",
    "    total_loss = loss\n",
    "    logits_list = [logits]\n",
    "    y_list = [y]\n",
    "\n",
    "    # Accumulate over stacked microbatches\n",
    "    for x, y in zip(x_stack, y_stack):\n",
    "        (loss, logits), grads = grad_fnc(model, x, y)\n",
    "\n",
    "        total_loss += loss\n",
    "\n",
    "        accum_grads = jtree.tree_map(lambda ag, g: ag + g, accum_grads, grads)\n",
    "\n",
    "        logits_list.append(logits)\n",
    "        y_list.append(y)\n",
    "\n",
    "    # Average accumulated gradient\n",
    "    accum_grads = jtree.tree_map(lambda g: g / len(logits_list), accum_grads)\n",
    "\n",
    "    # Optimizer update\n",
    "    optimizer.update(accum_grads)   \n",
    "\n",
    "    # Trace train loss and accuarcy\n",
    "    metrics.update(\n",
    "        loss=total_loss / len(logits_list),\n",
    "        logits=jnp.reshape(jnp.concatenate(logits_list, axis=0), (-1, logits_list[0].shape[-1])),\n",
    "        labels=jnp.reshape(jnp.concatenate(y_list, axis=0), (-1,)),\n",
    "    )\n",
    "    \n",
    "    \n",
    "@nnx.jit\n",
    "def eval_step(model, metrics: nnx.MultiMetric, x, y):\n",
    "  \"\"\"Evaluation step for validation.\"\"\"\n",
    "  loss, logits = loss_fn(model, x, y)\n",
    "  metrics.update(loss=loss, logits=logits, labels=y)  # In-place updates."
   ]
  },
  {
   "cell_type": "markdown",
   "metadata": {
    "_cell_guid": "af2fcfb4-0a34-412b-a2f7-c785fe3e3693",
    "_uuid": "be9c2f66-3d1a-4f8d-ad00-72a3a0f6290f",
    "collapsed": false,
    "jupyter": {
     "outputs_hidden": false
    },
    "trusted": true
   },
   "source": [
    "# Model Sharding and Parallelism\n",
    "This section handles model partitioning across TPU devices using JAX sharding constraints."
   ]
  },
  {
   "cell_type": "code",
   "execution_count": 23,
   "metadata": {
    "_cell_guid": "e37dba32-8c8c-4eb4-91c0-5b5ae72931c5",
    "_uuid": "541b1132-f102-4971-a785-d951f74229ec",
    "collapsed": false,
    "execution": {
     "iopub.execute_input": "2025-05-25T13:31:05.663350Z",
     "iopub.status.busy": "2025-05-25T13:31:05.662912Z",
     "iopub.status.idle": "2025-05-25T13:31:05.669252Z",
     "shell.execute_reply": "2025-05-25T13:31:05.667995Z",
     "shell.execute_reply.started": "2025-05-25T13:31:05.663321Z"
    },
    "jupyter": {
     "outputs_hidden": false
    },
    "trusted": true
   },
   "outputs": [],
   "source": [
    "@nnx.jit(static_argnames=[\"mesh\"])\n",
    "def create_sharded_model(mesh):\n",
    "  with mesh:  \n",
    "      model = GPT(config, rngs=nnx.Rngs(99)) # Unsharded at this moment.\n",
    "      state = nnx.state(model)               # The model's state, a pure pytree.\n",
    "      pspecs = nnx.get_partition_spec(state)    \n",
    "      sharded_state = jax.lax.with_sharding_constraint(state, pspecs)\n",
    "      nnx.update(model, sharded_state)       # The model is sharded now!\n",
    "      return model"
   ]
  },
  {
   "cell_type": "code",
   "execution_count": 24,
   "metadata": {
    "_cell_guid": "fe27d0d1-78c2-4d76-bdd7-7e22c7d75fb4",
    "_uuid": "ae7cd06e-c046-493c-9918-d09d3a67d54c",
    "collapsed": false,
    "execution": {
     "iopub.execute_input": "2025-05-25T13:31:07.067348Z",
     "iopub.status.busy": "2025-05-25T13:31:07.067000Z",
     "iopub.status.idle": "2025-05-25T13:31:12.168569Z",
     "shell.execute_reply": "2025-05-25T13:31:12.167127Z",
     "shell.execute_reply.started": "2025-05-25T13:31:07.067322Z"
    },
    "jupyter": {
     "outputs_hidden": false
    },
    "trusted": true
   },
   "outputs": [],
   "source": [
    "try:\n",
    "    model = create_sharded_model(mesh)\n",
    "except Exception as e:\n",
    "    print(f\"error: {e}\")\n",
    "\n",
    "model.train()\n",
    "optimizer = nnx.Optimizer(model, optax.adamw(LEARING_RATE, MOMENTUM))\n",
    "metrics = nnx.MultiMetric(\n",
    "    accuracy=nnx.metrics.Accuracy(),\n",
    "    loss=nnx.metrics.Average('loss'),\n",
    ")"
   ]
  },
  {
   "cell_type": "code",
   "execution_count": 25,
   "metadata": {
    "_cell_guid": "6769e1ee-c2ef-4700-bb09-0e71f159cfc6",
    "_uuid": "9a034fe1-6a10-426c-a09a-fccc14208662",
    "collapsed": false,
    "execution": {
     "iopub.execute_input": "2025-05-25T13:31:12.169441Z",
     "iopub.status.busy": "2025-05-25T13:31:12.169216Z",
     "iopub.status.idle": "2025-05-25T13:31:22.318534Z",
     "shell.execute_reply": "2025-05-25T13:31:22.317643Z",
     "shell.execute_reply.started": "2025-05-25T13:31:12.169418Z"
    },
    "jupyter": {
     "outputs_hidden": false
    },
    "trusted": true
   },
   "outputs": [
    {
     "data": {
      "text/html": [
       "<script> (()=>{ if (customElements.get('treescope-container') === undefined) { class TreescopeContainer extends HTMLElement { constructor() { super(); this.attachShadow({mode: \"open\"}); this.defns = {}; this.state = {}; } } customElements.define(\"treescope-container\", TreescopeContainer); } if (customElements.get('treescope-run-here') === undefined) { class RunHere extends HTMLElement { constructor() { super() } connectedCallback() { const run = child => { const fn = new Function(child.textContent); child.textContent = \"\"; fn.call(this); this.remove(); }; const child = this.querySelector(\"script\"); if (child) { run(child); } else { new MutationObserver(()=>{ run(this.querySelector(\"script\")); }).observe(this, {childList: true}); } } } customElements.define(\"treescope-run-here\", RunHere); } })(); </script> <treescope-container class=\"treescope_out_e356cfdf15904ef78a2e22991df2f569\" style=\"display:block\"></treescope-container> <treescope-run-here><script type=\"application/octet-stream\"> const root = ( Array.from(document.getElementsByClassName( \"treescope_out_e356cfdf15904ef78a2e22991df2f569\")) .filter((elt) => !elt.dataset.setup) )[0]; root.dataset.setup = 1; const msg = document.createElement(\"span\"); msg.style = \"color: #cccccc; font-family: monospace;\"; msg.textContent = \"(Loading...)\"; root.state.loadingMsg = msg; root.shadowRoot.appendChild(msg); root.state.chain = new Promise((resolve, reject) => { const observer = new IntersectionObserver((entries) => { for (const entry of entries) { if (entry.isIntersecting) { resolve(); observer.disconnect(); return; } } }, {rootMargin: \"1000px\"}); window.setTimeout(() => { observer.observe(root); }, 0); }); root.state.deferring = false; const _insertNode = (node) => { for (let oldScript of node.querySelectorAll(\"script\")) { let newScript = document.createElement(\"script\"); newScript.type = oldScript.type; newScript.textContent = oldScript.textContent; oldScript.parentNode.replaceChild(newScript, oldScript); } if (root.state.loadingMsg) { root.state.loadingMsg.remove(); root.state.loadingMsg = null; } root.shadowRoot.appendChild(node); }; root.defns.insertContent = ((contentNode, compressed) => { if (compressed) { root.state.deferring = true; } if (root.state.deferring) { root.state.chain = (async () => { await root.state.chain; if (compressed) { const encoded = contentNode.textContent; const blob = new Blob([ Uint8Array.from(atob(encoded), (m) => m.codePointAt(0)) ]); const reader = blob.stream().pipeThrough( new DecompressionStream(\"deflate\") ).pipeThrough( new TextDecoderStream(\"utf-8\") ).getReader(); const parts = []; while (true) { const step = await reader.read(); if (step.done) { break; } parts.push(step.value); } const tpl = document.createElement('template'); tpl.innerHTML = parts.join(\"\"); _insertNode(tpl.content); } else { _insertNode(contentNode.content); } })(); } else { _insertNode(contentNode.content); } }); </script></treescope-run-here><div style=\"display:none\"> <script type=\"application/octet-stream\" >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</script> <treescope-run-here><script type=\"application/octet-stream\"> const root = ( Array.from(document.getElementsByClassName( \"treescope_out_e356cfdf15904ef78a2e22991df2f569\")) .filter((elt) => !elt.dataset['step0']) )[0]; root.dataset['step0'] = 1; root.defns.insertContent( this.parentNode.querySelector('script[type=\"application/octet-stream\"]'), true ); this.parentNode.remove(); </script></treescope-run-here> </div>"
      ],
      "text/plain": [
       "<IPython.core.display.HTML object>"
      ]
     },
     "metadata": {},
     "output_type": "display_data"
    },
    {
     "data": {
      "text/html": [
       "<div style=\"display:none\"> <script type=\"application/octet-stream\" >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</script> <treescope-run-here><script type=\"application/octet-stream\"> const root = ( Array.from(document.getElementsByClassName( \"treescope_out_e356cfdf15904ef78a2e22991df2f569\")) .filter((elt) => !elt.dataset['step1']) )[0]; root.dataset['step1'] = 1; root.defns.insertContent( this.parentNode.querySelector('script[type=\"application/octet-stream\"]'), true ); this.parentNode.remove(); </script></treescope-run-here> </div>"
      ],
      "text/plain": [
       "<IPython.core.display.HTML object>"
      ]
     },
     "metadata": {},
     "output_type": "display_data"
    }
   ],
   "source": [
    "nnx.display(model)"
   ]
  },
  {
   "cell_type": "markdown",
   "metadata": {
    "_cell_guid": "2ed326fc-46e4-4e8a-97ab-ecd175c5d824",
    "_uuid": "88416440-3a9f-49a9-821e-8f6c1edc0c67",
    "collapsed": false,
    "jupyter": {
     "outputs_hidden": false
    },
    "trusted": true
   },
   "source": [
    "# Training Loop\n",
    "\n",
    "The main training loop runs for a specified number of steps, periodically evaluating the model.\n",
    "\n",
    "**Key Features:**\n",
    "- Efficient training with all the above techniques combined\n",
    "- Periodic evaluation and metric tracking"
   ]
  },
  {
   "cell_type": "code",
   "execution_count": null,
   "metadata": {
    "_cell_guid": "0c96c1af-2e04-41bc-a994-73ac32b9e895",
    "_uuid": "e2331b0f-1394-4173-a99d-610aa63e6725",
    "collapsed": false,
    "execution": {
     "execution_failed": "2025-05-25T15:13:53.978Z",
     "iopub.execute_input": "2025-05-25T13:31:22.320148Z",
     "iopub.status.busy": "2025-05-25T13:31:22.319703Z"
    },
    "jupyter": {
     "outputs_hidden": false
    },
    "trusted": true
   },
   "outputs": [
    {
     "data": {
      "image/png": "[encoded data removed]",
      "text/plain": [
       "<Figure size 1500x500 with 2 Axes>"
      ]
     },
     "metadata": {},
     "output_type": "display_data"
    },
    {
     "name": "stderr",
     "output_type": "stream",
     "text": [
      "  3%|▎         | 285/10000 [1:42:16<57:37:27, 21.35s/it]"
     ]
    }
   ],
   "source": [
    "# ---- Real-time plotting ----\n",
    "\n",
    "metrics_history = {\n",
    "    'train_loss': [],\n",
    "    'train_accuracy': [],\n",
    "    'test_loss': [],\n",
    "    'test_accuracy': [],\n",
    "    'steps': [] \n",
    "}\n",
    "\n",
    "def get_subkeys(key):\n",
    "    keys = random.split(key, GLOBAL_BATCH_SIZE // MICRO_BATCH_SIZE + 1)\n",
    "    return keys[0], keys[1:]\n",
    "\n",
    "\n",
    "with mesh:\n",
    "    # Main training loop\n",
    "    for step in tqdm(range(train_steps)):\n",
    "        \n",
    "        # Load data for the first micro-batch and stacked micro-batches for gradient accumulation\n",
    "        key, subkeys = get_subkeys(key) \n",
    "        x, y = data_load(train, MICRO_BATCH_SIZE, CONTEXT_SIZE, subkeys[0])\n",
    "        xs, ys = zip(*(data_load(train, MICRO_BATCH_SIZE, CONTEXT_SIZE, k) for k in subkeys[1:]))\n",
    "        x_stack, y_stack = jnp.stack(xs), jnp.stack(ys)\n",
    "        train_step(model, optimizer, metrics, x, y, x_stack, y_stack)\n",
    "\n",
    "        # Periodic evaluation and metric logging\n",
    "        if step > 0 and (step % eval_every == 0 or step == train_steps - 1):  \n",
    "            # Log the training metrics.\n",
    "            for metric, value in metrics.compute().items():  # Compute the metrics.\n",
    "                metrics_history[f'train_{metric}'].append(value)  # Record the metrics.\n",
    "            metrics.reset()  # Reset the metrics for the test set.\n",
    "    \n",
    "            # Compute the metrics on the test set \n",
    "            for _ in range(10):\n",
    "                key, subkey = random.split(key, 2)\n",
    "                x,y = data_load(test, MICRO_BATCH_SIZE, CONTEXT_SIZE, subkey)\n",
    "                eval_step(model, metrics, x, y)\n",
    "    \n",
    "            # Log the test metrics.\n",
    "            for metric, value in metrics.compute().items():\n",
    "                metrics_history[f'test_{metric}'].append(value)\n",
    "            metrics.reset()  # Reset the metrics \n",
    "    \n",
    "            # Record the step number for the x-axis\n",
    "            metrics_history['steps'].append(step)\n",
    "    \n",
    "            '''\n",
    "            print(\n",
    "              f\"[train] step: {step}, \"\n",
    "              f\"loss: {metrics_history['train_loss'][-1]}, \"\n",
    "              f\"accuracy: {metrics_history['train_accuracy'][-1] * 100}\"\n",
    "            )\n",
    "            print(\n",
    "              f\"[test] step: {step}, \"\n",
    "              f\"loss: {metrics_history['test_loss'][-1]}, \"\n",
    "              f\"accuracy: {metrics_history['test_accuracy'][-1] * 100}\"\n",
    "            )\n",
    "            '''\n",
    "            \n",
    "            # --- Update the plot for Kaggle ---\n",
    "            # Clear previous output and redraw plots for live update\n",
    "            clear_output(wait=True) # Clear the previous output of the storage cell, wait=True to avoid flickering\n",
    "    \n",
    "            # Recreate the chart and axes each time\n",
    "            fig, (ax1, ax2) = plt.subplots(1, 2, figsize=(15, 5))\n",
    "    \n",
    "            ax1.set_title('Loss')\n",
    "            ax1.set_xlabel('Training Step')\n",
    "            ax1.set_ylabel('Loss')\n",
    "            ax2.set_title('Accuracy')\n",
    "            ax2.set_xlabel('Training Step')\n",
    "            ax2.set_ylabel('Accuracy (%)')\n",
    "    \n",
    "            ax1.plot(metrics_history['steps'], metrics_history['train_loss'], 'r-', label='train_loss')\n",
    "            ax1.plot(metrics_history['steps'], metrics_history['test_loss'], 'b-', label='test_loss')\n",
    "            ax2.plot(metrics_history['steps'], [acc * 100 for acc in metrics_history['train_accuracy']], 'r-', label='train_accuracy')\n",
    "            ax2.plot(metrics_history['steps'], [acc * 100 for acc in metrics_history['test_accuracy']], 'b-', label='test_accuracy')\n",
    "    \n",
    "            ax1.legend()\n",
    "            ax2.legend()\n",
    "            plt.tight_layout() # Adjust layout to avoid overlap\n",
    "            display(fig) # Display the chart in the Notebook\n",
    "            plt.close(fig) # Close the chart object to free up memory and avoid displaying it twice\n",
    "\n",
    "\n",
    "print(\"Training finished.\")"
   ]
  },
  {
   "cell_type": "markdown",
   "metadata": {
    "_cell_guid": "687e6bc5-ad72-4f79-a3de-8d440590c8bf",
    "_uuid": "8d981ac3-9131-46f6-9ceb-f8e3482db787",
    "collapsed": false,
    "jupyter": {
     "outputs_hidden": false
    },
    "trusted": true
   },
   "source": [
    "# Plot"
   ]
  },
  {
   "cell_type": "code",
   "execution_count": null,
   "metadata": {
    "_cell_guid": "83762f06-7e57-4391-bf98-dca47b23ff6a",
    "_uuid": "bab73f21-6b80-4f5d-942a-871e4bbcad43",
    "collapsed": false,
    "execution": {
     "iopub.status.busy": "2025-05-25T13:27:38.595347Z",
     "iopub.status.idle": "2025-05-25T13:27:38.595976Z",
     "shell.execute_reply": "2025-05-25T13:27:38.595521Z",
     "shell.execute_reply.started": "2025-05-25T13:27:38.595482Z"
    },
    "jupyter": {
     "outputs_hidden": false
    },
    "trusted": true
   },
   "outputs": [],
   "source": [
    "import matplotlib.pyplot as plt  # Visualization\n",
    "\n",
    "# Plot loss and accuracy in subplots\n",
    "fig, (ax1, ax2) = plt.subplots(1, 2, figsize=(15, 5))\n",
    "ax1.set_title('Loss')\n",
    "ax2.set_title('Accuracy')\n",
    "for dataset in ('train', 'test'):\n",
    "  ax1.plot(metrics_history[f'{dataset}_loss'], label=f'{dataset}_loss')\n",
    "  ax2.plot(metrics_history[f'{dataset}_accuracy'], label=f'{dataset}_accuracy')\n",
    "ax1.legend()\n",
    "ax2.legend()\n",
    "plt.show()"
   ]
  },
  {
   "cell_type": "markdown",
   "metadata": {
    "_cell_guid": "3c544cc4-8a86-495c-85f0-c8cab95e4860",
    "_uuid": "75f02fac-7653-4277-810e-3dc789c9ce30",
    "collapsed": false,
    "jupyter": {
     "outputs_hidden": false
    },
    "trusted": true
   },
   "source": [
    "# Summary of Key Techniques\n",
    "\n",
    "- **FP16 Mixed Precision:** All model weights and activations use `bfloat16` to reduce memory usage and speed up computation.\n",
    "- **Gradient Accumulation:** Gradients are accumulated over several micro-batches before updating, enabling large effective batch sizes.\n",
    "- **Activation Recomputation:** Intermediate activations are recomputed during the backward pass to save memory.\n",
    "- **Tensor and Sequence Parallelism:** Model weights and computation are partitioned across multiple TPU devices, allowing for efficient large-scale training.\n",
    "\n",
    "These techniques together enable training of large language models efficiently on TPU clusters."
   ]
  }
 ],
 "metadata": {
  "kaggle": {
   "accelerator": "tpu1vmV38",
   "dataSources": [],
   "dockerImageVersionId": 30920,
   "isGpuEnabled": false,
   "isInternetEnabled": true,
   "language": "python",
   "sourceType": "notebook"
  },
  "kernelspec": {
   "display_name": "Python 3",
   "language": "python",
   "name": "python3"
  },
  "language_info": {
   "codemirror_mode": {
    "name": "ipython",
    "version": 3
   },
   "file_extension": ".py",
   "mimetype": "text/x-python",
   "name": "python",
   "nbconvert_exporter": "python",
   "pygments_lexer": "ipython3",
   "version": "3.10.16"
  }
 },
 "nbformat": 4,
 "nbformat_minor": 4
}
