{
 "cells": [
  {
   "cell_type": "markdown",
   "metadata": {},
   "source": [
    "This notebook can be run on Kaggle and Colab."
   ]
  },
  {
   "cell_type": "code",
   "execution_count": 1,
   "metadata": {
    "execution": {
     "iopub.execute_input": "2025-04-05T14:53:55.447402Z",
     "iopub.status.busy": "2025-04-05T14:53:55.447031Z",
     "iopub.status.idle": "2025-04-05T14:53:59.074811Z",
     "shell.execute_reply": "2025-04-05T14:53:59.073942Z",
     "shell.execute_reply.started": "2025-04-05T14:53:55.447361Z"
    },
    "id": "_C6dv6YG1YAD",
    "trusted": true
   },
   "outputs": [],
   "source": [
    "import jax\n",
    "import jax.numpy as jnp\n",
    "import jax.tree_util as jtree\n",
    "import jax.random as random\n",
    "from jax.sharding import NamedSharding\n",
    "from jax.sharding import PartitionSpec as P"
   ]
  },
  {
   "cell_type": "code",
   "execution_count": 2,
   "metadata": {
    "execution": {
     "iopub.execute_input": "2025-04-05T14:53:59.075843Z",
     "iopub.status.busy": "2025-04-05T14:53:59.075564Z",
     "iopub.status.idle": "2025-04-05T14:54:00.360449Z",
     "shell.execute_reply": "2025-04-05T14:54:00.359531Z",
     "shell.execute_reply.started": "2025-04-05T14:53:59.075819Z"
    },
    "id": "P9xqpUZ818OJ",
    "trusted": true
   },
   "outputs": [],
   "source": [
    "from datetime import datetime\n",
    "import matplotlib.pyplot as plt"
   ]
  },
  {
   "cell_type": "code",
   "execution_count": 3,
   "metadata": {
    "execution": {
     "iopub.execute_input": "2025-04-05T14:54:00.361804Z",
     "iopub.status.busy": "2025-04-05T14:54:00.361473Z",
     "iopub.status.idle": "2025-04-05T14:54:01.774402Z",
     "shell.execute_reply": "2025-04-05T14:54:01.773631Z",
     "shell.execute_reply.started": "2025-04-05T14:54:00.361778Z"
    },
    "id": "_HG66NSh2Vcb",
    "trusted": true
   },
   "outputs": [],
   "source": [
    "from sklearn.datasets import make_classification\n",
    "from sklearn.model_selection import train_test_split\n",
    "from sklearn.preprocessing import StandardScaler"
   ]
  },
  {
   "cell_type": "code",
   "execution_count": 4,
   "metadata": {
    "execution": {
     "iopub.execute_input": "2025-04-05T14:54:01.775845Z",
     "iopub.status.busy": "2025-04-05T14:54:01.775536Z",
     "iopub.status.idle": "2025-04-05T14:54:01.779512Z",
     "shell.execute_reply": "2025-04-05T14:54:01.778380Z",
     "shell.execute_reply.started": "2025-04-05T14:54:01.775822Z"
    },
    "trusted": true
   },
   "outputs": [],
   "source": [
    "# Config\n",
    "\n",
    "feature_dim = 64\n",
    "n_label = 8\n",
    "\n",
    "EPOCHS = 10000\n",
    "LEARNING_RATE = 1e-7"
   ]
  },
  {
   "cell_type": "code",
   "execution_count": 5,
   "metadata": {
    "execution": {
     "iopub.execute_input": "2025-04-05T14:54:01.780796Z",
     "iopub.status.busy": "2025-04-05T14:54:01.780357Z",
     "iopub.status.idle": "2025-04-05T14:54:07.891702Z",
     "shell.execute_reply": "2025-04-05T14:54:07.890893Z",
     "shell.execute_reply.started": "2025-04-05T14:54:01.780736Z"
    },
    "trusted": true
   },
   "outputs": [
    {
     "name": "stderr",
     "output_type": "stream",
     "text": [
      "WARNING: Logging before InitGoogle() is written to STDERR\n",
      "E0000 00:00:1743864843.873299      11 common_lib.cc:612] Could not set metric server port: INVALID_ARGUMENT: Could not find SliceBuilder port 8471 in any of the 0 ports provided in `tpu_process_addresses`=\"local\"\n",
      "=== Source Location Trace: === \n",
      "learning/45eac/tfrc/runtime/common_lib.cc:230\n"
     ]
    },
    {
     "data": {
      "text/plain": [
       "[TpuDevice(id=0, process_index=0, coords=(0,0,0), core_on_chip=0),\n",
       " TpuDevice(id=1, process_index=0, coords=(0,0,0), core_on_chip=1),\n",
       " TpuDevice(id=2, process_index=0, coords=(1,0,0), core_on_chip=0),\n",
       " TpuDevice(id=3, process_index=0, coords=(1,0,0), core_on_chip=1),\n",
       " TpuDevice(id=4, process_index=0, coords=(0,1,0), core_on_chip=0),\n",
       " TpuDevice(id=5, process_index=0, coords=(0,1,0), core_on_chip=1),\n",
       " TpuDevice(id=6, process_index=0, coords=(1,1,0), core_on_chip=0),\n",
       " TpuDevice(id=7, process_index=0, coords=(1,1,0), core_on_chip=1)]"
      ]
     },
     "execution_count": 5,
     "metadata": {},
     "output_type": "execute_result"
    }
   ],
   "source": [
    "jax.devices()"
   ]
  },
  {
   "cell_type": "code",
   "execution_count": 6,
   "metadata": {
    "execution": {
     "iopub.execute_input": "2025-04-05T14:54:07.893313Z",
     "iopub.status.busy": "2025-04-05T14:54:07.893003Z",
     "iopub.status.idle": "2025-04-05T14:54:11.038894Z",
     "shell.execute_reply": "2025-04-05T14:54:11.037846Z",
     "shell.execute_reply.started": "2025-04-05T14:54:07.893286Z"
    },
    "trusted": true
   },
   "outputs": [
    {
     "name": "stdout",
     "output_type": "stream",
     "text": [
      "lhs sharding:\n"
     ]
    },
    {
     "data": {
      "text/html": [
       "<pre style=\"white-space:pre;overflow-x:auto;line-height:normal;font-family:Menlo,'DejaVu Sans Mono',consolas,'Courier New',monospace\"><span style=\"color: #ffffff; text-decoration-color: #ffffff; background-color: #393b79\">                         </span>\n",
       "<span style=\"color: #ffffff; text-decoration-color: #ffffff; background-color: #393b79\">                         </span>\n",
       "<span style=\"color: #ffffff; text-decoration-color: #ffffff; background-color: #393b79\">                         </span>\n",
       "<span style=\"color: #ffffff; text-decoration-color: #ffffff; background-color: #393b79\">                         </span>\n",
       "<span style=\"color: #ffffff; text-decoration-color: #ffffff; background-color: #393b79\">                         </span>\n",
       "<span style=\"color: #ffffff; text-decoration-color: #ffffff; background-color: #393b79\">          TPU 0          </span>\n",
       "<span style=\"color: #ffffff; text-decoration-color: #ffffff; background-color: #393b79\">                         </span>\n",
       "<span style=\"color: #ffffff; text-decoration-color: #ffffff; background-color: #393b79\">                         </span>\n",
       "<span style=\"color: #ffffff; text-decoration-color: #ffffff; background-color: #393b79\">                         </span>\n",
       "<span style=\"color: #ffffff; text-decoration-color: #ffffff; background-color: #393b79\">                         </span>\n",
       "<span style=\"color: #ffffff; text-decoration-color: #ffffff; background-color: #393b79\">                         </span>\n",
       "</pre>\n"
      ],
      "text/plain": [
       "\u001b[38;2;255;255;255;48;2;57;59;121m                         \u001b[0m\n",
       "\u001b[38;2;255;255;255;48;2;57;59;121m                         \u001b[0m\n",
       "\u001b[38;2;255;255;255;48;2;57;59;121m                         \u001b[0m\n",
       "\u001b[38;2;255;255;255;48;2;57;59;121m                         \u001b[0m\n",
       "\u001b[38;2;255;255;255;48;2;57;59;121m                         \u001b[0m\n",
       "\u001b[38;2;255;255;255;48;2;57;59;121m          \u001b[0m\u001b[38;2;255;255;255;48;2;57;59;121mTPU 0\u001b[0m\u001b[38;2;255;255;255;48;2;57;59;121m          \u001b[0m\n",
       "\u001b[38;2;255;255;255;48;2;57;59;121m                         \u001b[0m\n",
       "\u001b[38;2;255;255;255;48;2;57;59;121m                         \u001b[0m\n",
       "\u001b[38;2;255;255;255;48;2;57;59;121m                         \u001b[0m\n",
       "\u001b[38;2;255;255;255;48;2;57;59;121m                         \u001b[0m\n",
       "\u001b[38;2;255;255;255;48;2;57;59;121m                         \u001b[0m\n"
      ]
     },
     "metadata": {},
     "output_type": "display_data"
    },
    {
     "name": "stdout",
     "output_type": "stream",
     "text": [
      "rhs sharding:\n"
     ]
    },
    {
     "data": {
      "text/html": [
       "<pre style=\"white-space:pre;overflow-x:auto;line-height:normal;font-family:Menlo,'DejaVu Sans Mono',consolas,'Courier New',monospace\"><span style=\"color: #ffffff; text-decoration-color: #ffffff; background-color: #393b79\">            </span><span style=\"color: #ffffff; text-decoration-color: #ffffff; background-color: #d6616b\">            </span>\n",
       "<span style=\"color: #ffffff; text-decoration-color: #ffffff; background-color: #393b79\">   TPU 0    </span><span style=\"color: #ffffff; text-decoration-color: #ffffff; background-color: #d6616b\">   TPU 1    </span>\n",
       "<span style=\"color: #ffffff; text-decoration-color: #ffffff; background-color: #393b79\">            </span><span style=\"color: #ffffff; text-decoration-color: #ffffff; background-color: #d6616b\">            </span>\n",
       "<span style=\"color: #ffffff; text-decoration-color: #ffffff; background-color: #8ca252\">            </span><span style=\"color: #ffffff; text-decoration-color: #ffffff; background-color: #de9ed6\">            </span>\n",
       "<span style=\"color: #ffffff; text-decoration-color: #ffffff; background-color: #8ca252\">   TPU 2    </span><span style=\"color: #ffffff; text-decoration-color: #ffffff; background-color: #de9ed6\">   TPU 3    </span>\n",
       "<span style=\"color: #ffffff; text-decoration-color: #ffffff; background-color: #8ca252\">            </span><span style=\"color: #ffffff; text-decoration-color: #ffffff; background-color: #de9ed6\">            </span>\n",
       "<span style=\"color: #000000; text-decoration-color: #000000; background-color: #e7cb94\">            </span><span style=\"color: #ffffff; text-decoration-color: #ffffff; background-color: #6b6ecf\">            </span>\n",
       "<span style=\"color: #000000; text-decoration-color: #000000; background-color: #e7cb94\">   TPU 6    </span><span style=\"color: #ffffff; text-decoration-color: #ffffff; background-color: #6b6ecf\">   TPU 7    </span>\n",
       "<span style=\"color: #000000; text-decoration-color: #000000; background-color: #e7cb94\">            </span><span style=\"color: #ffffff; text-decoration-color: #ffffff; background-color: #6b6ecf\">            </span>\n",
       "<span style=\"color: #ffffff; text-decoration-color: #ffffff; background-color: #a55194\">            </span><span style=\"color: #ffffff; text-decoration-color: #ffffff; background-color: #8c6d31\">            </span>\n",
       "<span style=\"color: #ffffff; text-decoration-color: #ffffff; background-color: #a55194\">   TPU 4    </span><span style=\"color: #ffffff; text-decoration-color: #ffffff; background-color: #8c6d31\">   TPU 5    </span>\n",
       "<span style=\"color: #ffffff; text-decoration-color: #ffffff; background-color: #a55194\">            </span><span style=\"color: #ffffff; text-decoration-color: #ffffff; background-color: #8c6d31\">            </span>\n",
       "</pre>\n"
      ],
      "text/plain": [
       "\u001b[38;2;255;255;255;48;2;57;59;121m            \u001b[0m\u001b[38;2;255;255;255;48;2;214;97;107m            \u001b[0m\n",
       "\u001b[38;2;255;255;255;48;2;57;59;121m   \u001b[0m\u001b[38;2;255;255;255;48;2;57;59;121mTPU 0\u001b[0m\u001b[38;2;255;255;255;48;2;57;59;121m    \u001b[0m\u001b[38;2;255;255;255;48;2;214;97;107m   \u001b[0m\u001b[38;2;255;255;255;48;2;214;97;107mTPU 1\u001b[0m\u001b[38;2;255;255;255;48;2;214;97;107m    \u001b[0m\n",
       "\u001b[38;2;255;255;255;48;2;57;59;121m            \u001b[0m\u001b[38;2;255;255;255;48;2;214;97;107m            \u001b[0m\n",
       "\u001b[38;2;255;255;255;48;2;140;162;82m            \u001b[0m\u001b[38;2;255;255;255;48;2;222;158;214m            \u001b[0m\n",
       "\u001b[38;2;255;255;255;48;2;140;162;82m   \u001b[0m\u001b[38;2;255;255;255;48;2;140;162;82mTPU 2\u001b[0m\u001b[38;2;255;255;255;48;2;140;162;82m    \u001b[0m\u001b[38;2;255;255;255;48;2;222;158;214m   \u001b[0m\u001b[38;2;255;255;255;48;2;222;158;214mTPU 3\u001b[0m\u001b[38;2;255;255;255;48;2;222;158;214m    \u001b[0m\n",
       "\u001b[38;2;255;255;255;48;2;140;162;82m            \u001b[0m\u001b[38;2;255;255;255;48;2;222;158;214m            \u001b[0m\n",
       "\u001b[38;2;0;0;0;48;2;231;203;148m            \u001b[0m\u001b[38;2;255;255;255;48;2;107;110;207m            \u001b[0m\n",
       "\u001b[38;2;0;0;0;48;2;231;203;148m   \u001b[0m\u001b[38;2;0;0;0;48;2;231;203;148mTPU 6\u001b[0m\u001b[38;2;0;0;0;48;2;231;203;148m    \u001b[0m\u001b[38;2;255;255;255;48;2;107;110;207m   \u001b[0m\u001b[38;2;255;255;255;48;2;107;110;207mTPU 7\u001b[0m\u001b[38;2;255;255;255;48;2;107;110;207m    \u001b[0m\n",
       "\u001b[38;2;0;0;0;48;2;231;203;148m            \u001b[0m\u001b[38;2;255;255;255;48;2;107;110;207m            \u001b[0m\n",
       "\u001b[38;2;255;255;255;48;2;165;81;148m            \u001b[0m\u001b[38;2;255;255;255;48;2;140;109;49m            \u001b[0m\n",
       "\u001b[38;2;255;255;255;48;2;165;81;148m   \u001b[0m\u001b[38;2;255;255;255;48;2;165;81;148mTPU 4\u001b[0m\u001b[38;2;255;255;255;48;2;165;81;148m    \u001b[0m\u001b[38;2;255;255;255;48;2;140;109;49m   \u001b[0m\u001b[38;2;255;255;255;48;2;140;109;49mTPU 5\u001b[0m\u001b[38;2;255;255;255;48;2;140;109;49m    \u001b[0m\n",
       "\u001b[38;2;255;255;255;48;2;165;81;148m            \u001b[0m\u001b[38;2;255;255;255;48;2;140;109;49m            \u001b[0m\n"
      ]
     },
     "metadata": {},
     "output_type": "display_data"
    },
    {
     "name": "stdout",
     "output_type": "stream",
     "text": [
      "out (lhs) sharding:\n"
     ]
    },
    {
     "data": {
      "text/html": [
       "<pre style=\"white-space:pre;overflow-x:auto;line-height:normal;font-family:Menlo,'DejaVu Sans Mono',consolas,'Courier New',monospace\"><span style=\"color: #ffffff; text-decoration-color: #ffffff; background-color: #393b79\">                        </span>\n",
       "<span style=\"color: #ffffff; text-decoration-color: #ffffff; background-color: #393b79\">                        </span>\n",
       "<span style=\"color: #ffffff; text-decoration-color: #ffffff; background-color: #393b79\">                        </span>\n",
       "<span style=\"color: #ffffff; text-decoration-color: #ffffff; background-color: #393b79\">                        </span>\n",
       "<span style=\"color: #ffffff; text-decoration-color: #ffffff; background-color: #393b79\">                        </span>\n",
       "<span style=\"color: #ffffff; text-decoration-color: #ffffff; background-color: #393b79\">TPU 0,2,4,6 TPU 1,3,5,7 </span>\n",
       "<span style=\"color: #ffffff; text-decoration-color: #ffffff; background-color: #393b79\">                        </span>\n",
       "<span style=\"color: #ffffff; text-decoration-color: #ffffff; background-color: #393b79\">                        </span>\n",
       "<span style=\"color: #ffffff; text-decoration-color: #ffffff; background-color: #393b79\">                        </span>\n",
       "<span style=\"color: #ffffff; text-decoration-color: #ffffff; background-color: #393b79\">                        </span>\n",
       "<span style=\"color: #ffffff; text-decoration-color: #ffffff; background-color: #393b79\">                        </span>\n",
       "</pre>\n"
      ],
      "text/plain": [
       "\u001b[38;2;255;255;255;48;2;57;59;121m            \u001b[0m\u001b[38;2;255;255;255;48;2;57;59;121m            \u001b[0m\n",
       "\u001b[38;2;255;255;255;48;2;57;59;121m            \u001b[0m\u001b[38;2;255;255;255;48;2;57;59;121m            \u001b[0m\n",
       "\u001b[38;2;255;255;255;48;2;57;59;121m            \u001b[0m\u001b[38;2;255;255;255;48;2;57;59;121m            \u001b[0m\n",
       "\u001b[38;2;255;255;255;48;2;57;59;121m            \u001b[0m\u001b[38;2;255;255;255;48;2;57;59;121m            \u001b[0m\n",
       "\u001b[38;2;255;255;255;48;2;57;59;121m            \u001b[0m\u001b[38;2;255;255;255;48;2;57;59;121m            \u001b[0m\n",
       "\u001b[38;2;255;255;255;48;2;57;59;121mTPU 0,2,4,6\u001b[0m\u001b[38;2;255;255;255;48;2;57;59;121m \u001b[0m\u001b[38;2;255;255;255;48;2;57;59;121mTPU 1,3,5,7\u001b[0m\u001b[38;2;255;255;255;48;2;57;59;121m \u001b[0m\n",
       "\u001b[38;2;255;255;255;48;2;57;59;121m            \u001b[0m\u001b[38;2;255;255;255;48;2;57;59;121m            \u001b[0m\n",
       "\u001b[38;2;255;255;255;48;2;57;59;121m            \u001b[0m\u001b[38;2;255;255;255;48;2;57;59;121m            \u001b[0m\n",
       "\u001b[38;2;255;255;255;48;2;57;59;121m            \u001b[0m\u001b[38;2;255;255;255;48;2;57;59;121m            \u001b[0m\n",
       "\u001b[38;2;255;255;255;48;2;57;59;121m            \u001b[0m\u001b[38;2;255;255;255;48;2;57;59;121m            \u001b[0m\n",
       "\u001b[38;2;255;255;255;48;2;57;59;121m            \u001b[0m\u001b[38;2;255;255;255;48;2;57;59;121m            \u001b[0m\n"
      ]
     },
     "metadata": {},
     "output_type": "display_data"
    },
    {
     "name": "stdout",
     "output_type": "stream",
     "text": [
      "rhs:\n"
     ]
    },
    {
     "data": {
      "text/html": [
       "<pre style=\"white-space:pre;overflow-x:auto;line-height:normal;font-family:Menlo,'DejaVu Sans Mono',consolas,'Courier New',monospace\"><span style=\"color: #ffffff; text-decoration-color: #ffffff; background-color: #393b79\">            </span><span style=\"color: #ffffff; text-decoration-color: #ffffff; background-color: #d6616b\">            </span>\n",
       "<span style=\"color: #ffffff; text-decoration-color: #ffffff; background-color: #393b79\">   TPU 0    </span><span style=\"color: #ffffff; text-decoration-color: #ffffff; background-color: #d6616b\">   TPU 1    </span>\n",
       "<span style=\"color: #ffffff; text-decoration-color: #ffffff; background-color: #393b79\">            </span><span style=\"color: #ffffff; text-decoration-color: #ffffff; background-color: #d6616b\">            </span>\n",
       "<span style=\"color: #ffffff; text-decoration-color: #ffffff; background-color: #8ca252\">            </span><span style=\"color: #ffffff; text-decoration-color: #ffffff; background-color: #de9ed6\">            </span>\n",
       "<span style=\"color: #ffffff; text-decoration-color: #ffffff; background-color: #8ca252\">   TPU 2    </span><span style=\"color: #ffffff; text-decoration-color: #ffffff; background-color: #de9ed6\">   TPU 3    </span>\n",
       "<span style=\"color: #ffffff; text-decoration-color: #ffffff; background-color: #8ca252\">            </span><span style=\"color: #ffffff; text-decoration-color: #ffffff; background-color: #de9ed6\">            </span>\n",
       "<span style=\"color: #000000; text-decoration-color: #000000; background-color: #e7cb94\">            </span><span style=\"color: #ffffff; text-decoration-color: #ffffff; background-color: #6b6ecf\">            </span>\n",
       "<span style=\"color: #000000; text-decoration-color: #000000; background-color: #e7cb94\">   TPU 6    </span><span style=\"color: #ffffff; text-decoration-color: #ffffff; background-color: #6b6ecf\">   TPU 7    </span>\n",
       "<span style=\"color: #000000; text-decoration-color: #000000; background-color: #e7cb94\">            </span><span style=\"color: #ffffff; text-decoration-color: #ffffff; background-color: #6b6ecf\">            </span>\n",
       "<span style=\"color: #ffffff; text-decoration-color: #ffffff; background-color: #a55194\">            </span><span style=\"color: #ffffff; text-decoration-color: #ffffff; background-color: #8c6d31\">            </span>\n",
       "<span style=\"color: #ffffff; text-decoration-color: #ffffff; background-color: #a55194\">   TPU 4    </span><span style=\"color: #ffffff; text-decoration-color: #ffffff; background-color: #8c6d31\">   TPU 5    </span>\n",
       "<span style=\"color: #ffffff; text-decoration-color: #ffffff; background-color: #a55194\">            </span><span style=\"color: #ffffff; text-decoration-color: #ffffff; background-color: #8c6d31\">            </span>\n",
       "</pre>\n"
      ],
      "text/plain": [
       "\u001b[38;2;255;255;255;48;2;57;59;121m            \u001b[0m\u001b[38;2;255;255;255;48;2;214;97;107m            \u001b[0m\n",
       "\u001b[38;2;255;255;255;48;2;57;59;121m   \u001b[0m\u001b[38;2;255;255;255;48;2;57;59;121mTPU 0\u001b[0m\u001b[38;2;255;255;255;48;2;57;59;121m    \u001b[0m\u001b[38;2;255;255;255;48;2;214;97;107m   \u001b[0m\u001b[38;2;255;255;255;48;2;214;97;107mTPU 1\u001b[0m\u001b[38;2;255;255;255;48;2;214;97;107m    \u001b[0m\n",
       "\u001b[38;2;255;255;255;48;2;57;59;121m            \u001b[0m\u001b[38;2;255;255;255;48;2;214;97;107m            \u001b[0m\n",
       "\u001b[38;2;255;255;255;48;2;140;162;82m            \u001b[0m\u001b[38;2;255;255;255;48;2;222;158;214m            \u001b[0m\n",
       "\u001b[38;2;255;255;255;48;2;140;162;82m   \u001b[0m\u001b[38;2;255;255;255;48;2;140;162;82mTPU 2\u001b[0m\u001b[38;2;255;255;255;48;2;140;162;82m    \u001b[0m\u001b[38;2;255;255;255;48;2;222;158;214m   \u001b[0m\u001b[38;2;255;255;255;48;2;222;158;214mTPU 3\u001b[0m\u001b[38;2;255;255;255;48;2;222;158;214m    \u001b[0m\n",
       "\u001b[38;2;255;255;255;48;2;140;162;82m            \u001b[0m\u001b[38;2;255;255;255;48;2;222;158;214m            \u001b[0m\n",
       "\u001b[38;2;0;0;0;48;2;231;203;148m            \u001b[0m\u001b[38;2;255;255;255;48;2;107;110;207m            \u001b[0m\n",
       "\u001b[38;2;0;0;0;48;2;231;203;148m   \u001b[0m\u001b[38;2;0;0;0;48;2;231;203;148mTPU 6\u001b[0m\u001b[38;2;0;0;0;48;2;231;203;148m    \u001b[0m\u001b[38;2;255;255;255;48;2;107;110;207m   \u001b[0m\u001b[38;2;255;255;255;48;2;107;110;207mTPU 7\u001b[0m\u001b[38;2;255;255;255;48;2;107;110;207m    \u001b[0m\n",
       "\u001b[38;2;0;0;0;48;2;231;203;148m            \u001b[0m\u001b[38;2;255;255;255;48;2;107;110;207m            \u001b[0m\n",
       "\u001b[38;2;255;255;255;48;2;165;81;148m            \u001b[0m\u001b[38;2;255;255;255;48;2;140;109;49m            \u001b[0m\n",
       "\u001b[38;2;255;255;255;48;2;165;81;148m   \u001b[0m\u001b[38;2;255;255;255;48;2;165;81;148mTPU 4\u001b[0m\u001b[38;2;255;255;255;48;2;165;81;148m    \u001b[0m\u001b[38;2;255;255;255;48;2;140;109;49m   \u001b[0m\u001b[38;2;255;255;255;48;2;140;109;49mTPU 5\u001b[0m\u001b[38;2;255;255;255;48;2;140;109;49m    \u001b[0m\n",
       "\u001b[38;2;255;255;255;48;2;165;81;148m            \u001b[0m\u001b[38;2;255;255;255;48;2;140;109;49m            \u001b[0m\n"
      ]
     },
     "metadata": {},
     "output_type": "display_data"
    },
    {
     "name": "stdout",
     "output_type": "stream",
     "text": [
      "out sharding:\n"
     ]
    },
    {
     "data": {
      "text/html": [
       "<pre style=\"white-space:pre;overflow-x:auto;line-height:normal;font-family:Menlo,'DejaVu Sans Mono',consolas,'Courier New',monospace\"><span style=\"color: #ffffff; text-decoration-color: #ffffff; background-color: #393b79\">                        </span>\n",
       "<span style=\"color: #ffffff; text-decoration-color: #ffffff; background-color: #393b79\">                        </span>\n",
       "<span style=\"color: #ffffff; text-decoration-color: #ffffff; background-color: #393b79\">                        </span>\n",
       "<span style=\"color: #ffffff; text-decoration-color: #ffffff; background-color: #393b79\">                        </span>\n",
       "<span style=\"color: #ffffff; text-decoration-color: #ffffff; background-color: #393b79\">                        </span>\n",
       "<span style=\"color: #ffffff; text-decoration-color: #ffffff; background-color: #393b79\">TPU 0,2,4,6 TPU 1,3,5,7 </span>\n",
       "<span style=\"color: #ffffff; text-decoration-color: #ffffff; background-color: #393b79\">                        </span>\n",
       "<span style=\"color: #ffffff; text-decoration-color: #ffffff; background-color: #393b79\">                        </span>\n",
       "<span style=\"color: #ffffff; text-decoration-color: #ffffff; background-color: #393b79\">                        </span>\n",
       "<span style=\"color: #ffffff; text-decoration-color: #ffffff; background-color: #393b79\">                        </span>\n",
       "<span style=\"color: #ffffff; text-decoration-color: #ffffff; background-color: #393b79\">                        </span>\n",
       "</pre>\n"
      ],
      "text/plain": [
       "\u001b[38;2;255;255;255;48;2;57;59;121m            \u001b[0m\u001b[38;2;255;255;255;48;2;57;59;121m            \u001b[0m\n",
       "\u001b[38;2;255;255;255;48;2;57;59;121m            \u001b[0m\u001b[38;2;255;255;255;48;2;57;59;121m            \u001b[0m\n",
       "\u001b[38;2;255;255;255;48;2;57;59;121m            \u001b[0m\u001b[38;2;255;255;255;48;2;57;59;121m            \u001b[0m\n",
       "\u001b[38;2;255;255;255;48;2;57;59;121m            \u001b[0m\u001b[38;2;255;255;255;48;2;57;59;121m            \u001b[0m\n",
       "\u001b[38;2;255;255;255;48;2;57;59;121m            \u001b[0m\u001b[38;2;255;255;255;48;2;57;59;121m            \u001b[0m\n",
       "\u001b[38;2;255;255;255;48;2;57;59;121mTPU 0,2,4,6\u001b[0m\u001b[38;2;255;255;255;48;2;57;59;121m \u001b[0m\u001b[38;2;255;255;255;48;2;57;59;121mTPU 1,3,5,7\u001b[0m\u001b[38;2;255;255;255;48;2;57;59;121m \u001b[0m\n",
       "\u001b[38;2;255;255;255;48;2;57;59;121m            \u001b[0m\u001b[38;2;255;255;255;48;2;57;59;121m            \u001b[0m\n",
       "\u001b[38;2;255;255;255;48;2;57;59;121m            \u001b[0m\u001b[38;2;255;255;255;48;2;57;59;121m            \u001b[0m\n",
       "\u001b[38;2;255;255;255;48;2;57;59;121m            \u001b[0m\u001b[38;2;255;255;255;48;2;57;59;121m            \u001b[0m\n",
       "\u001b[38;2;255;255;255;48;2;57;59;121m            \u001b[0m\u001b[38;2;255;255;255;48;2;57;59;121m            \u001b[0m\n",
       "\u001b[38;2;255;255;255;48;2;57;59;121m            \u001b[0m\u001b[38;2;255;255;255;48;2;57;59;121m            \u001b[0m\n"
      ]
     },
     "metadata": {},
     "output_type": "display_data"
    }
   ],
   "source": [
    "mesh = jax.make_mesh((4, 2), ('a', 'b'))\n",
    "\n",
    "x = jax.random.normal(jax.random.key(0), (8192, 8192))\n",
    "\n",
    "z = jax.device_put(x, NamedSharding(mesh, P('a', 'b')))\n",
    "\n",
    "print('lhs sharding:')\n",
    "jax.debug.visualize_array_sharding(x)\n",
    "print('rhs sharding:')\n",
    "jax.debug.visualize_array_sharding(z)\n",
    "\n",
    "w = jnp.dot(x, z)\n",
    "print('out (lhs) sharding:')\n",
    "jax.debug.visualize_array_sharding(w)\n",
    "\n",
    "k = jax.device_put(x, NamedSharding(mesh, P('a', 'b')))\n",
    "print('rhs:')\n",
    "jax.debug.visualize_array_sharding(k)\n",
    "\n",
    "t = jnp.dot(w, k)\n",
    "print('out sharding:')\n",
    "jax.debug.visualize_array_sharding(t)"
   ]
  },
  {
   "cell_type": "markdown",
   "metadata": {
    "id": "hbMkxfByXTus"
   },
   "source": [
    "# Prepare dataset"
   ]
  },
  {
   "cell_type": "code",
   "execution_count": 7,
   "metadata": {
    "execution": {
     "iopub.execute_input": "2025-04-05T14:54:11.039849Z",
     "iopub.status.busy": "2025-04-05T14:54:11.039605Z",
     "iopub.status.idle": "2025-04-05T14:54:11.227232Z",
     "shell.execute_reply": "2025-04-05T14:54:11.226203Z",
     "shell.execute_reply.started": "2025-04-05T14:54:11.039824Z"
    },
    "id": "DuxkHLfOMW7K",
    "trusted": true
   },
   "outputs": [],
   "source": [
    "# Generate a dataset with 8000 samples \n",
    "x, y = make_classification(n_samples=8*10*100, n_features=feature_dim, n_classes=n_label, n_clusters_per_class=8, n_informative=feature_dim//8, random_state=42)\n",
    "\n",
    "# Split the data into training and testing sets, with 20% for testing, and stratify based on the target labels\n",
    "x_train, x_test, y_train, y_test = train_test_split(\n",
    "    x, y, test_size=0.2, random_state=1, stratify=y\n",
    ")\n",
    "\n",
    "# Standardize the features by fitting the StandardScaler on the training set\n",
    "sc = StandardScaler().fit(x_train)\n",
    "\n",
    "# Apply the transformation to the training and test data and convert them into JAX arrays\n",
    "std_x_train = jnp.array(sc.transform(x_train))\n",
    "std_x_test = jnp.array(sc.transform(x_test))\n",
    "\n",
    "# Convert the target labels into one-hot encoded vectors for both training and test sets\n",
    "hot_y_train = jax.nn.one_hot(y_train, num_classes=n_label)\n",
    "hot_y_test = jax.nn.one_hot(y_test, num_classes=n_label)"
   ]
  },
  {
   "cell_type": "markdown",
   "metadata": {
    "id": "PBUj8z0TXbOx"
   },
   "source": [
    "# Model"
   ]
  },
  {
   "cell_type": "markdown",
   "metadata": {
    "id": "jVsF3pMq3YEV"
   },
   "source": [
    "## Linear and MLP"
   ]
  },
  {
   "cell_type": "code",
   "execution_count": 8,
   "metadata": {
    "execution": {
     "iopub.execute_input": "2025-04-05T14:54:11.228494Z",
     "iopub.status.busy": "2025-04-05T14:54:11.228269Z",
     "iopub.status.idle": "2025-04-05T14:54:11.234292Z",
     "shell.execute_reply": "2025-04-05T14:54:11.233230Z",
     "shell.execute_reply.started": "2025-04-05T14:54:11.228471Z"
    },
    "id": "p-oyzPYH-l3Q",
    "trusted": true
   },
   "outputs": [],
   "source": [
    "def Linear(m, n, key):\n",
    "  w_key, b_key = random.split(key)\n",
    "  return { \"weight\": random.normal(w_key, (m, n)), \"bias\": random.normal(b_key, (n,)) }\n",
    "\n",
    "def linear_forward(params, x):\n",
    "  return x.dot(params[\"weight\"]) + params[\"bias\"]\n",
    "\n",
    "\n",
    "\n",
    "def init_network_params(key):\n",
    "  keys = random.split(key, 3)\n",
    "  params = {\n",
    "        \"layer1\": Linear(feature_dim, 8192, keys[0]),\n",
    "        \"layer2\": Linear(8192, 8192, keys[1]),\n",
    "        \"layer3\": Linear(8192, n_label, keys[2]),\n",
    "        }\n",
    "  return params\n",
    "\n",
    "@jax.jit\n",
    "def predict(params, x):\n",
    "  for layer, layer_param in params.items():\n",
    "    x = jax.nn.relu(linear_forward(layer_param, x))\n",
    "  return x"
   ]
  },
  {
   "cell_type": "markdown",
   "metadata": {
    "id": "e0EDs8rs3R5J"
   },
   "source": [
    "## Funtion"
   ]
  },
  {
   "cell_type": "code",
   "execution_count": 9,
   "metadata": {
    "execution": {
     "iopub.execute_input": "2025-04-05T14:54:11.235580Z",
     "iopub.status.busy": "2025-04-05T14:54:11.235121Z",
     "iopub.status.idle": "2025-04-05T14:54:11.249233Z",
     "shell.execute_reply": "2025-04-05T14:54:11.248365Z",
     "shell.execute_reply.started": "2025-04-05T14:54:11.235556Z"
    },
    "id": "hO0HWuk-oVPy",
    "trusted": true
   },
   "outputs": [],
   "source": [
    "def cross_entropy(x, t):\n",
    "  return jnp.mean(-jnp.sum(t * jax.nn.log_softmax(x), axis=-1))\n",
    "    \n",
    "@jax.jit\n",
    "def loss_fn(params, logits, target):\n",
    "  return cross_entropy(predict(params, logits), target)\n",
    "\n",
    "@jax.jit\n",
    "def update(params, feature, target, learning_rate):\n",
    "  grads = jax.grad(loss_fn)(params, feature, target)\n",
    "  return jtree.tree_map(lambda x, y: x - (learning_rate * y), params, grads)"
   ]
  },
  {
   "cell_type": "code",
   "execution_count": 10,
   "metadata": {
    "execution": {
     "iopub.execute_input": "2025-04-05T14:54:11.249991Z",
     "iopub.status.busy": "2025-04-05T14:54:11.249796Z",
     "iopub.status.idle": "2025-04-05T14:54:11.259558Z",
     "shell.execute_reply": "2025-04-05T14:54:11.258724Z",
     "shell.execute_reply.started": "2025-04-05T14:54:11.249972Z"
    },
    "id": "Nk_ZF_29dvVi",
    "trusted": true
   },
   "outputs": [],
   "source": [
    "def train_loop(model, input_data, target, test_input, test_target, training_time=10000, time_per_val=100, learning_rate = 1e-9):\n",
    "    history = {\n",
    "        'test_loss': [],\n",
    "        'epochs': []\n",
    "    }\n",
    "\n",
    "    for i in range(0, training_time):\n",
    "        # Optimize model\n",
    "        model = update(model, input_data, target, learning_rate)\n",
    "        \n",
    "        if (i+1) % time_per_val==0:\n",
    "            history[\"test_loss\"].append(loss_fn(model, test_input, test_target))\n",
    "            history[\"epochs\"].append(i)\n",
    "\n",
    "    return model, history"
   ]
  },
  {
   "cell_type": "markdown",
   "metadata": {
    "id": "MXAH0T303EWd"
   },
   "source": [
    "# Model parallel"
   ]
  },
  {
   "cell_type": "code",
   "execution_count": 11,
   "metadata": {
    "execution": {
     "iopub.execute_input": "2025-04-05T14:54:11.260569Z",
     "iopub.status.busy": "2025-04-05T14:54:11.260382Z",
     "iopub.status.idle": "2025-04-05T14:54:12.544130Z",
     "shell.execute_reply": "2025-04-05T14:54:12.542897Z",
     "shell.execute_reply.started": "2025-04-05T14:54:11.260550Z"
    },
    "id": "v_20BIaA28b9",
    "trusted": true
   },
   "outputs": [],
   "source": [
    "# Initialize the random number generator (PRNG) key\n",
    "k = random.PRNGKey(0)\n",
    "# Split the PRNG key into two parts (one for initializing the model, the other for later use)\n",
    "k, sk1 = random.split(k,2)\n",
    "\n",
    "# Initialize the model parameters\n",
    "model = init_network_params(sk1)"
   ]
  },
  {
   "cell_type": "code",
   "execution_count": 12,
   "metadata": {
    "execution": {
     "iopub.execute_input": "2025-04-05T14:54:12.545253Z",
     "iopub.status.busy": "2025-04-05T14:54:12.545020Z",
     "iopub.status.idle": "2025-04-05T14:54:12.549920Z",
     "shell.execute_reply": "2025-04-05T14:54:12.549010Z",
     "shell.execute_reply.started": "2025-04-05T14:54:12.545232Z"
    },
    "trusted": true
   },
   "outputs": [],
   "source": [
    "# Create a mesh with 8 devices\n",
    "mesh = jax.make_mesh((2,4), ('batch','model'))\n",
    "\n",
    "def sharding(params, mesh):\n",
    "    for (layer, layer_param),i in zip(params.items(),range(len(params))):\n",
    "        layer_param[\"weight\"] = jax.device_put(layer_param[\"weight\"], NamedSharding(mesh, P((\"batch\", \"model\"))))\n",
    "        layer_param[\"bias\"] = jax.device_put(layer_param[\"bias\"], NamedSharding(mesh, P(\"batch\")))\n",
    "    return params"
   ]
  },
  {
   "cell_type": "code",
   "execution_count": 13,
   "metadata": {
    "execution": {
     "iopub.execute_input": "2025-04-05T14:54:12.551019Z",
     "iopub.status.busy": "2025-04-05T14:54:12.550791Z",
     "iopub.status.idle": "2025-04-05T14:54:12.834718Z",
     "shell.execute_reply": "2025-04-05T14:54:12.833545Z",
     "shell.execute_reply.started": "2025-04-05T14:54:12.550998Z"
    },
    "id": "OUM5ATS83DO8",
    "trusted": true
   },
   "outputs": [],
   "source": [
    "p_model = sharding(model, mesh)"
   ]
  },
  {
   "cell_type": "code",
   "execution_count": 14,
   "metadata": {
    "execution": {
     "iopub.execute_input": "2025-04-05T14:54:12.835718Z",
     "iopub.status.busy": "2025-04-05T14:54:12.835510Z",
     "iopub.status.idle": "2025-04-05T14:57:13.849560Z",
     "shell.execute_reply": "2025-04-05T14:57:13.848418Z",
     "shell.execute_reply.started": "2025-04-05T14:54:12.835698Z"
    },
    "id": "Z7m3mEWX4HBX",
    "trusted": true
   },
   "outputs": [],
   "source": [
    "# Train the model using the training data, and store the training history\n",
    "# The train_loop function will also return the history (e.g., losses, epochs)\n",
    "p_start_time = datetime.now()\n",
    "p_model, p_history = train_loop(p_model, std_x_train, hot_y_train, std_x_test, hot_y_test, training_time=EPOCHS, learning_rate=LEARNING_RATE)\n",
    "p_end_time = datetime.now()"
   ]
  },
  {
   "cell_type": "markdown",
   "metadata": {
    "id": "F7CDnBWW4k3j"
   },
   "source": [
    "## Non-paralle version"
   ]
  },
  {
   "cell_type": "code",
   "execution_count": 15,
   "metadata": {
    "execution": {
     "iopub.execute_input": "2025-04-05T14:57:13.850949Z",
     "iopub.status.busy": "2025-04-05T14:57:13.850696Z",
     "iopub.status.idle": "2025-04-05T15:05:15.061359Z",
     "shell.execute_reply": "2025-04-05T15:05:15.060071Z",
     "shell.execute_reply.started": "2025-04-05T14:57:13.850925Z"
    },
    "id": "UyGFXD7S4qoB",
    "trusted": true
   },
   "outputs": [],
   "source": [
    "# Initialize the random number generator (PRNG) key\n",
    "k = random.PRNGKey(0)\n",
    "# Split the PRNG key into two parts (one for initializing the model, the other for later use)\n",
    "k, sk1 = random.split(k, 2)\n",
    "\n",
    "# Initialize the model parameters\n",
    "model = init_network_params(sk1)\n",
    "\n",
    "# Move the model to the first device (usually device 0)\n",
    "model_single = jax.device_put(model, jax.devices()[0])\n",
    "\n",
    "# Train the model using the training data, and store the training history\n",
    "# The train_loop function will also return the history (e.g., losses, epochs)\n",
    "start_time = datetime.now()\n",
    "model_single, history = train_loop(model_single, std_x_train, hot_y_train, std_x_test, hot_y_test, training_time=EPOCHS, learning_rate=LEARNING_RATE)\n",
    "end_time = datetime.now()"
   ]
  },
  {
   "cell_type": "markdown",
   "metadata": {},
   "source": [
    "## Comparison of training time and loss curve "
   ]
  },
  {
   "cell_type": "code",
   "execution_count": 16,
   "metadata": {
    "execution": {
     "iopub.execute_input": "2025-04-05T15:05:15.062964Z",
     "iopub.status.busy": "2025-04-05T15:05:15.062701Z",
     "iopub.status.idle": "2025-04-05T15:05:15.067641Z",
     "shell.execute_reply": "2025-04-05T15:05:15.066582Z",
     "shell.execute_reply.started": "2025-04-05T15:05:15.062939Z"
    },
    "trusted": true
   },
   "outputs": [
    {
     "name": "stdout",
     "output_type": "stream",
     "text": [
      "Execution time of Paralle : 0:03:01.009279\n",
      "Execution time of Non-Paralle : 0:08:01.073347\n"
     ]
    }
   ],
   "source": [
    "print(f\"Execution time of Paralle : {p_end_time - p_start_time}\")\n",
    "print(f\"Execution time of Non-Paralle : {end_time - start_time}\")"
   ]
  },
  {
   "cell_type": "markdown",
   "metadata": {},
   "source": [
    "$ \\text{SpeedUp} =  \\frac{481.073347}{181.009279} \\approx 2.657727546663506 $ with TPUv3-8 on Kaggle\n",
    "\n",
    "$ \\text{SpeedUp} =  \\frac{1193.595985}{306.886346} \\approx 3.8893746840076093 $ with TPUv2-8 on Colab"
   ]
  },
  {
   "cell_type": "code",
   "execution_count": 17,
   "metadata": {
    "execution": {
     "iopub.execute_input": "2025-04-05T15:05:15.068680Z",
     "iopub.status.busy": "2025-04-05T15:05:15.068435Z",
     "iopub.status.idle": "2025-04-05T15:05:16.717782Z",
     "shell.execute_reply": "2025-04-05T15:05:16.716544Z",
     "shell.execute_reply.started": "2025-04-05T15:05:15.068646Z"
    },
    "trusted": true
   },
   "outputs": [
    {
     "data": {
      "image/png": "[encoded data removed]",
      "text/plain": [
       "<Figure size 640x480 with 1 Axes>"
      ]
     },
     "metadata": {},
     "output_type": "display_data"
    }
   ],
   "source": [
    "# Plot the test loss over the training processing\n",
    "plt.plot(p_history['epochs'], p_history['test_loss'], 'b-', label='Parallel')\n",
    "plt.plot(history['epochs'], history['test_loss'], 'r-', label='Non-Parallel')\n",
    "\n",
    "plt.xlabel('Epochs')\n",
    "plt.ylabel('Test Loss')\n",
    "\n",
    "plt.legend()\n",
    "plt.show()"
   ]
  },
  {
   "cell_type": "code",
   "execution_count": null,
   "metadata": {
    "trusted": true
   },
   "outputs": [],
   "source": []
  }
 ],
 "metadata": {
  "accelerator": "TPU",
  "colab": {
   "gpuType": "V28",
   "provenance": []
  },
  "kaggle": {
   "accelerator": "tpu1vmV38",
   "dataSources": [],
   "dockerImageVersionId": 30920,
   "isGpuEnabled": false,
   "isInternetEnabled": true,
   "language": "python",
   "sourceType": "notebook"
  },
  "kernelspec": {
   "display_name": "Python 3",
   "language": "python",
   "name": "python3"
  },
  "language_info": {
   "codemirror_mode": {
    "name": "ipython",
    "version": 3
   },
   "file_extension": ".py",
   "mimetype": "text/x-python",
   "name": "python",
   "nbconvert_exporter": "python",
   "pygments_lexer": "ipython3",
   "version": "3.10.16"
  }
 },
 "nbformat": 4,
 "nbformat_minor": 4
}
